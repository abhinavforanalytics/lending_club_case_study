{
 "cells": [
  {
   "cell_type": "code",
   "execution_count": 1,
   "id": "83f2cccd",
   "metadata": {},
   "outputs": [],
   "source": [
    "import pandas as pd\n",
    "import numpy as np\n",
    "import seaborn as sns\n",
    "import matplotlib.pyplot as plt"
   ]
  },
  {
   "cell_type": "code",
   "execution_count": 2,
   "id": "436be04a",
   "metadata": {},
   "outputs": [],
   "source": [
    "loan = pd.read_csv(\"loan.csv\",low_memory=False)"
   ]
  },
  {
   "cell_type": "markdown",
   "id": "8a8c328e",
   "metadata": {},
   "source": [
    "# Investigating the shape of the data"
   ]
  },
  {
   "cell_type": "code",
   "execution_count": 3,
   "id": "286f0843",
   "metadata": {},
   "outputs": [
    {
     "data": {
      "text/plain": [
       "39717"
      ]
     },
     "execution_count": 3,
     "metadata": {},
     "output_type": "execute_result"
    }
   ],
   "source": [
    "len(loan) #number of rows"
   ]
  },
  {
   "cell_type": "code",
   "execution_count": 4,
   "id": "e1d685d8",
   "metadata": {},
   "outputs": [
    {
     "data": {
      "text/html": [
       "<div>\n",
       "<style scoped>\n",
       "    .dataframe tbody tr th:only-of-type {\n",
       "        vertical-align: middle;\n",
       "    }\n",
       "\n",
       "    .dataframe tbody tr th {\n",
       "        vertical-align: top;\n",
       "    }\n",
       "\n",
       "    .dataframe thead th {\n",
       "        text-align: right;\n",
       "    }\n",
       "</style>\n",
       "<table border=\"1\" class=\"dataframe\">\n",
       "  <thead>\n",
       "    <tr style=\"text-align: right;\">\n",
       "      <th></th>\n",
       "      <th>id</th>\n",
       "      <th>member_id</th>\n",
       "      <th>loan_amnt</th>\n",
       "      <th>funded_amnt</th>\n",
       "      <th>funded_amnt_inv</th>\n",
       "      <th>term</th>\n",
       "      <th>int_rate</th>\n",
       "      <th>installment</th>\n",
       "      <th>grade</th>\n",
       "      <th>sub_grade</th>\n",
       "      <th>...</th>\n",
       "      <th>num_tl_90g_dpd_24m</th>\n",
       "      <th>num_tl_op_past_12m</th>\n",
       "      <th>pct_tl_nvr_dlq</th>\n",
       "      <th>percent_bc_gt_75</th>\n",
       "      <th>pub_rec_bankruptcies</th>\n",
       "      <th>tax_liens</th>\n",
       "      <th>tot_hi_cred_lim</th>\n",
       "      <th>total_bal_ex_mort</th>\n",
       "      <th>total_bc_limit</th>\n",
       "      <th>total_il_high_credit_limit</th>\n",
       "    </tr>\n",
       "  </thead>\n",
       "  <tbody>\n",
       "    <tr>\n",
       "      <th>0</th>\n",
       "      <td>1077501</td>\n",
       "      <td>1296599</td>\n",
       "      <td>5000</td>\n",
       "      <td>5000</td>\n",
       "      <td>4975.0</td>\n",
       "      <td>36 months</td>\n",
       "      <td>10.65%</td>\n",
       "      <td>162.87</td>\n",
       "      <td>B</td>\n",
       "      <td>B2</td>\n",
       "      <td>...</td>\n",
       "      <td>NaN</td>\n",
       "      <td>NaN</td>\n",
       "      <td>NaN</td>\n",
       "      <td>NaN</td>\n",
       "      <td>0.0</td>\n",
       "      <td>0.0</td>\n",
       "      <td>NaN</td>\n",
       "      <td>NaN</td>\n",
       "      <td>NaN</td>\n",
       "      <td>NaN</td>\n",
       "    </tr>\n",
       "    <tr>\n",
       "      <th>1</th>\n",
       "      <td>1077430</td>\n",
       "      <td>1314167</td>\n",
       "      <td>2500</td>\n",
       "      <td>2500</td>\n",
       "      <td>2500.0</td>\n",
       "      <td>60 months</td>\n",
       "      <td>15.27%</td>\n",
       "      <td>59.83</td>\n",
       "      <td>C</td>\n",
       "      <td>C4</td>\n",
       "      <td>...</td>\n",
       "      <td>NaN</td>\n",
       "      <td>NaN</td>\n",
       "      <td>NaN</td>\n",
       "      <td>NaN</td>\n",
       "      <td>0.0</td>\n",
       "      <td>0.0</td>\n",
       "      <td>NaN</td>\n",
       "      <td>NaN</td>\n",
       "      <td>NaN</td>\n",
       "      <td>NaN</td>\n",
       "    </tr>\n",
       "    <tr>\n",
       "      <th>2</th>\n",
       "      <td>1077175</td>\n",
       "      <td>1313524</td>\n",
       "      <td>2400</td>\n",
       "      <td>2400</td>\n",
       "      <td>2400.0</td>\n",
       "      <td>36 months</td>\n",
       "      <td>15.96%</td>\n",
       "      <td>84.33</td>\n",
       "      <td>C</td>\n",
       "      <td>C5</td>\n",
       "      <td>...</td>\n",
       "      <td>NaN</td>\n",
       "      <td>NaN</td>\n",
       "      <td>NaN</td>\n",
       "      <td>NaN</td>\n",
       "      <td>0.0</td>\n",
       "      <td>0.0</td>\n",
       "      <td>NaN</td>\n",
       "      <td>NaN</td>\n",
       "      <td>NaN</td>\n",
       "      <td>NaN</td>\n",
       "    </tr>\n",
       "    <tr>\n",
       "      <th>3</th>\n",
       "      <td>1076863</td>\n",
       "      <td>1277178</td>\n",
       "      <td>10000</td>\n",
       "      <td>10000</td>\n",
       "      <td>10000.0</td>\n",
       "      <td>36 months</td>\n",
       "      <td>13.49%</td>\n",
       "      <td>339.31</td>\n",
       "      <td>C</td>\n",
       "      <td>C1</td>\n",
       "      <td>...</td>\n",
       "      <td>NaN</td>\n",
       "      <td>NaN</td>\n",
       "      <td>NaN</td>\n",
       "      <td>NaN</td>\n",
       "      <td>0.0</td>\n",
       "      <td>0.0</td>\n",
       "      <td>NaN</td>\n",
       "      <td>NaN</td>\n",
       "      <td>NaN</td>\n",
       "      <td>NaN</td>\n",
       "    </tr>\n",
       "    <tr>\n",
       "      <th>4</th>\n",
       "      <td>1075358</td>\n",
       "      <td>1311748</td>\n",
       "      <td>3000</td>\n",
       "      <td>3000</td>\n",
       "      <td>3000.0</td>\n",
       "      <td>60 months</td>\n",
       "      <td>12.69%</td>\n",
       "      <td>67.79</td>\n",
       "      <td>B</td>\n",
       "      <td>B5</td>\n",
       "      <td>...</td>\n",
       "      <td>NaN</td>\n",
       "      <td>NaN</td>\n",
       "      <td>NaN</td>\n",
       "      <td>NaN</td>\n",
       "      <td>0.0</td>\n",
       "      <td>0.0</td>\n",
       "      <td>NaN</td>\n",
       "      <td>NaN</td>\n",
       "      <td>NaN</td>\n",
       "      <td>NaN</td>\n",
       "    </tr>\n",
       "  </tbody>\n",
       "</table>\n",
       "<p>5 rows × 111 columns</p>\n",
       "</div>"
      ],
      "text/plain": [
       "        id  member_id  loan_amnt  funded_amnt  funded_amnt_inv        term  \\\n",
       "0  1077501    1296599       5000         5000           4975.0   36 months   \n",
       "1  1077430    1314167       2500         2500           2500.0   60 months   \n",
       "2  1077175    1313524       2400         2400           2400.0   36 months   \n",
       "3  1076863    1277178      10000        10000          10000.0   36 months   \n",
       "4  1075358    1311748       3000         3000           3000.0   60 months   \n",
       "\n",
       "  int_rate  installment grade sub_grade  ... num_tl_90g_dpd_24m  \\\n",
       "0   10.65%       162.87     B        B2  ...                NaN   \n",
       "1   15.27%        59.83     C        C4  ...                NaN   \n",
       "2   15.96%        84.33     C        C5  ...                NaN   \n",
       "3   13.49%       339.31     C        C1  ...                NaN   \n",
       "4   12.69%        67.79     B        B5  ...                NaN   \n",
       "\n",
       "  num_tl_op_past_12m pct_tl_nvr_dlq  percent_bc_gt_75 pub_rec_bankruptcies  \\\n",
       "0                NaN            NaN               NaN                  0.0   \n",
       "1                NaN            NaN               NaN                  0.0   \n",
       "2                NaN            NaN               NaN                  0.0   \n",
       "3                NaN            NaN               NaN                  0.0   \n",
       "4                NaN            NaN               NaN                  0.0   \n",
       "\n",
       "  tax_liens tot_hi_cred_lim total_bal_ex_mort total_bc_limit  \\\n",
       "0       0.0             NaN               NaN            NaN   \n",
       "1       0.0             NaN               NaN            NaN   \n",
       "2       0.0             NaN               NaN            NaN   \n",
       "3       0.0             NaN               NaN            NaN   \n",
       "4       0.0             NaN               NaN            NaN   \n",
       "\n",
       "  total_il_high_credit_limit  \n",
       "0                        NaN  \n",
       "1                        NaN  \n",
       "2                        NaN  \n",
       "3                        NaN  \n",
       "4                        NaN  \n",
       "\n",
       "[5 rows x 111 columns]"
      ]
     },
     "execution_count": 4,
     "metadata": {},
     "output_type": "execute_result"
    }
   ],
   "source": [
    "loan.head() #data at a glance"
   ]
  },
  {
   "cell_type": "code",
   "execution_count": 5,
   "id": "9900331e",
   "metadata": {},
   "outputs": [
    {
     "name": "stdout",
     "output_type": "stream",
     "text": [
      "<class 'pandas.core.frame.DataFrame'>\n",
      "RangeIndex: 39717 entries, 0 to 39716\n",
      "Columns: 111 entries, id to total_il_high_credit_limit\n",
      "dtypes: float64(74), int64(13), object(24)\n",
      "memory usage: 33.6+ MB\n"
     ]
    }
   ],
   "source": [
    "loan.info()"
   ]
  },
  {
   "cell_type": "markdown",
   "id": "d7b438c7",
   "metadata": {},
   "source": [
    "### Treating missing values"
   ]
  },
  {
   "cell_type": "code",
   "execution_count": 6,
   "id": "e3ae5626",
   "metadata": {},
   "outputs": [
    {
     "data": {
      "text/plain": [
       "id                                0\n",
       "member_id                         0\n",
       "loan_amnt                         0\n",
       "funded_amnt                       0\n",
       "funded_amnt_inv                   0\n",
       "                              ...  \n",
       "tax_liens                        39\n",
       "tot_hi_cred_lim               39717\n",
       "total_bal_ex_mort             39717\n",
       "total_bc_limit                39717\n",
       "total_il_high_credit_limit    39717\n",
       "Length: 111, dtype: int64"
      ]
     },
     "execution_count": 6,
     "metadata": {},
     "output_type": "execute_result"
    }
   ],
   "source": [
    "loan.isna().sum()"
   ]
  },
  {
   "cell_type": "markdown",
   "id": "21d670e7",
   "metadata": {},
   "source": [
    "#### We're unable to look at all the columns since the number is huge, its better to Visualize missing values to discover which ones need attention"
   ]
  },
  {
   "cell_type": "code",
   "execution_count": 7,
   "id": "db2b78dc",
   "metadata": {},
   "outputs": [
    {
     "data": {
      "image/png": "[encoded data removed]",
      "text/plain": [
       "<Figure size 864x2160 with 1 Axes>"
      ]
     },
     "metadata": {
      "needs_background": "light"
     },
     "output_type": "display_data"
    }
   ],
   "source": [
    "plt.figure(figsize=(12,30))\n",
    "sns.heatmap(loan.isna().transpose(),\n",
    "            cmap=\"viridis\",cbar=False)\n",
    "plt.show()"
   ]
  },
  {
   "cell_type": "markdown",
   "id": "7701be00",
   "metadata": {},
   "source": [
    "#### A lot of columns seem to have only missing values, it's ideal to drop those columns altogether with a condition over missing values"
   ]
  },
  {
   "cell_type": "code",
   "execution_count": 8,
   "id": "6dae040f",
   "metadata": {},
   "outputs": [],
   "source": [
    "loan.dropna(axis=1,how='all',inplace=True) #how='all' will drop any columns that contain only missing values"
   ]
  },
  {
   "cell_type": "code",
   "execution_count": 9,
   "id": "ac175087",
   "metadata": {},
   "outputs": [
    {
     "name": "stdout",
     "output_type": "stream",
     "text": [
      "<class 'pandas.core.frame.DataFrame'>\n",
      "RangeIndex: 39717 entries, 0 to 39716\n",
      "Data columns (total 57 columns):\n",
      " #   Column                      Non-Null Count  Dtype  \n",
      "---  ------                      --------------  -----  \n",
      " 0   id                          39717 non-null  int64  \n",
      " 1   member_id                   39717 non-null  int64  \n",
      " 2   loan_amnt                   39717 non-null  int64  \n",
      " 3   funded_amnt                 39717 non-null  int64  \n",
      " 4   funded_amnt_inv             39717 non-null  float64\n",
      " 5   term                        39717 non-null  object \n",
      " 6   int_rate                    39717 non-null  object \n",
      " 7   installment                 39717 non-null  float64\n",
      " 8   grade                       39717 non-null  object \n",
      " 9   sub_grade                   39717 non-null  object \n",
      " 10  emp_title                   37258 non-null  object \n",
      " 11  emp_length                  38642 non-null  object \n",
      " 12  home_ownership              39717 non-null  object \n",
      " 13  annual_inc                  39717 non-null  float64\n",
      " 14  verification_status         39717 non-null  object \n",
      " 15  issue_d                     39717 non-null  object \n",
      " 16  loan_status                 39717 non-null  object \n",
      " 17  pymnt_plan                  39717 non-null  object \n",
      " 18  url                         39717 non-null  object \n",
      " 19  desc                        26777 non-null  object \n",
      " 20  purpose                     39717 non-null  object \n",
      " 21  title                       39706 non-null  object \n",
      " 22  zip_code                    39717 non-null  object \n",
      " 23  addr_state                  39717 non-null  object \n",
      " 24  dti                         39717 non-null  float64\n",
      " 25  delinq_2yrs                 39717 non-null  int64  \n",
      " 26  earliest_cr_line            39717 non-null  object \n",
      " 27  inq_last_6mths              39717 non-null  int64  \n",
      " 28  mths_since_last_delinq      14035 non-null  float64\n",
      " 29  mths_since_last_record      2786 non-null   float64\n",
      " 30  open_acc                    39717 non-null  int64  \n",
      " 31  pub_rec                     39717 non-null  int64  \n",
      " 32  revol_bal                   39717 non-null  int64  \n",
      " 33  revol_util                  39667 non-null  object \n",
      " 34  total_acc                   39717 non-null  int64  \n",
      " 35  initial_list_status         39717 non-null  object \n",
      " 36  out_prncp                   39717 non-null  float64\n",
      " 37  out_prncp_inv               39717 non-null  float64\n",
      " 38  total_pymnt                 39717 non-null  float64\n",
      " 39  total_pymnt_inv             39717 non-null  float64\n",
      " 40  total_rec_prncp             39717 non-null  float64\n",
      " 41  total_rec_int               39717 non-null  float64\n",
      " 42  total_rec_late_fee          39717 non-null  float64\n",
      " 43  recoveries                  39717 non-null  float64\n",
      " 44  collection_recovery_fee     39717 non-null  float64\n",
      " 45  last_pymnt_d                39646 non-null  object \n",
      " 46  last_pymnt_amnt             39717 non-null  float64\n",
      " 47  next_pymnt_d                1140 non-null   object \n",
      " 48  last_credit_pull_d          39715 non-null  object \n",
      " 49  collections_12_mths_ex_med  39661 non-null  float64\n",
      " 50  policy_code                 39717 non-null  int64  \n",
      " 51  application_type            39717 non-null  object \n",
      " 52  acc_now_delinq              39717 non-null  int64  \n",
      " 53  chargeoff_within_12_mths    39661 non-null  float64\n",
      " 54  delinq_amnt                 39717 non-null  int64  \n",
      " 55  pub_rec_bankruptcies        39020 non-null  float64\n",
      " 56  tax_liens                   39678 non-null  float64\n",
      "dtypes: float64(20), int64(13), object(24)\n",
      "memory usage: 17.3+ MB\n"
     ]
    }
   ],
   "source": [
    "loan.info()"
   ]
  },
  {
   "cell_type": "code",
   "execution_count": 10,
   "id": "201faafb",
   "metadata": {},
   "outputs": [
    {
     "data": {
      "image/png": "[encoded data removed]",
      "text/plain": [
       "<Figure size 864x2160 with 1 Axes>"
      ]
     },
     "metadata": {
      "needs_background": "light"
     },
     "output_type": "display_data"
    }
   ],
   "source": [
    "plt.figure(figsize=(12,30))\n",
    "sns.heatmap(loan.isna().transpose(),\n",
    "            cmap=\"viridis\",cbar=False)\n",
    "plt.show()"
   ]
  },
  {
   "cell_type": "code",
   "execution_count": 11,
   "id": "77f6628a",
   "metadata": {},
   "outputs": [
    {
     "data": {
      "text/html": [
       "<div>\n",
       "<style scoped>\n",
       "    .dataframe tbody tr th:only-of-type {\n",
       "        vertical-align: middle;\n",
       "    }\n",
       "\n",
       "    .dataframe tbody tr th {\n",
       "        vertical-align: top;\n",
       "    }\n",
       "\n",
       "    .dataframe thead th {\n",
       "        text-align: right;\n",
       "    }\n",
       "</style>\n",
       "<table border=\"1\" class=\"dataframe\">\n",
       "  <thead>\n",
       "    <tr style=\"text-align: right;\">\n",
       "      <th></th>\n",
       "      <th>Values</th>\n",
       "    </tr>\n",
       "  </thead>\n",
       "  <tbody>\n",
       "    <tr>\n",
       "      <th>next_pymnt_d</th>\n",
       "      <td>97.129693</td>\n",
       "    </tr>\n",
       "    <tr>\n",
       "      <th>mths_since_last_record</th>\n",
       "      <td>92.985372</td>\n",
       "    </tr>\n",
       "    <tr>\n",
       "      <th>mths_since_last_delinq</th>\n",
       "      <td>64.662487</td>\n",
       "    </tr>\n",
       "    <tr>\n",
       "      <th>desc</th>\n",
       "      <td>32.580507</td>\n",
       "    </tr>\n",
       "    <tr>\n",
       "      <th>emp_title</th>\n",
       "      <td>6.191303</td>\n",
       "    </tr>\n",
       "    <tr>\n",
       "      <th>emp_length</th>\n",
       "      <td>2.706650</td>\n",
       "    </tr>\n",
       "    <tr>\n",
       "      <th>pub_rec_bankruptcies</th>\n",
       "      <td>1.754916</td>\n",
       "    </tr>\n",
       "    <tr>\n",
       "      <th>last_pymnt_d</th>\n",
       "      <td>0.178765</td>\n",
       "    </tr>\n",
       "    <tr>\n",
       "      <th>chargeoff_within_12_mths</th>\n",
       "      <td>0.140998</td>\n",
       "    </tr>\n",
       "    <tr>\n",
       "      <th>collections_12_mths_ex_med</th>\n",
       "      <td>0.140998</td>\n",
       "    </tr>\n",
       "    <tr>\n",
       "      <th>revol_util</th>\n",
       "      <td>0.125891</td>\n",
       "    </tr>\n",
       "    <tr>\n",
       "      <th>tax_liens</th>\n",
       "      <td>0.098195</td>\n",
       "    </tr>\n",
       "    <tr>\n",
       "      <th>title</th>\n",
       "      <td>0.027696</td>\n",
       "    </tr>\n",
       "    <tr>\n",
       "      <th>last_credit_pull_d</th>\n",
       "      <td>0.005036</td>\n",
       "    </tr>\n",
       "    <tr>\n",
       "      <th>home_ownership</th>\n",
       "      <td>0.000000</td>\n",
       "    </tr>\n",
       "    <tr>\n",
       "      <th>int_rate</th>\n",
       "      <td>0.000000</td>\n",
       "    </tr>\n",
       "    <tr>\n",
       "      <th>out_prncp_inv</th>\n",
       "      <td>0.000000</td>\n",
       "    </tr>\n",
       "    <tr>\n",
       "      <th>total_pymnt</th>\n",
       "      <td>0.000000</td>\n",
       "    </tr>\n",
       "    <tr>\n",
       "      <th>total_pymnt_inv</th>\n",
       "      <td>0.000000</td>\n",
       "    </tr>\n",
       "    <tr>\n",
       "      <th>total_rec_prncp</th>\n",
       "      <td>0.000000</td>\n",
       "    </tr>\n",
       "    <tr>\n",
       "      <th>total_rec_int</th>\n",
       "      <td>0.000000</td>\n",
       "    </tr>\n",
       "    <tr>\n",
       "      <th>total_rec_late_fee</th>\n",
       "      <td>0.000000</td>\n",
       "    </tr>\n",
       "    <tr>\n",
       "      <th>recoveries</th>\n",
       "      <td>0.000000</td>\n",
       "    </tr>\n",
       "    <tr>\n",
       "      <th>collection_recovery_fee</th>\n",
       "      <td>0.000000</td>\n",
       "    </tr>\n",
       "    <tr>\n",
       "      <th>term</th>\n",
       "      <td>0.000000</td>\n",
       "    </tr>\n",
       "    <tr>\n",
       "      <th>last_pymnt_amnt</th>\n",
       "      <td>0.000000</td>\n",
       "    </tr>\n",
       "    <tr>\n",
       "      <th>initial_list_status</th>\n",
       "      <td>0.000000</td>\n",
       "    </tr>\n",
       "    <tr>\n",
       "      <th>funded_amnt_inv</th>\n",
       "      <td>0.000000</td>\n",
       "    </tr>\n",
       "    <tr>\n",
       "      <th>policy_code</th>\n",
       "      <td>0.000000</td>\n",
       "    </tr>\n",
       "    <tr>\n",
       "      <th>application_type</th>\n",
       "      <td>0.000000</td>\n",
       "    </tr>\n",
       "    <tr>\n",
       "      <th>acc_now_delinq</th>\n",
       "      <td>0.000000</td>\n",
       "    </tr>\n",
       "    <tr>\n",
       "      <th>funded_amnt</th>\n",
       "      <td>0.000000</td>\n",
       "    </tr>\n",
       "    <tr>\n",
       "      <th>delinq_amnt</th>\n",
       "      <td>0.000000</td>\n",
       "    </tr>\n",
       "    <tr>\n",
       "      <th>loan_amnt</th>\n",
       "      <td>0.000000</td>\n",
       "    </tr>\n",
       "    <tr>\n",
       "      <th>out_prncp</th>\n",
       "      <td>0.000000</td>\n",
       "    </tr>\n",
       "    <tr>\n",
       "      <th>total_acc</th>\n",
       "      <td>0.000000</td>\n",
       "    </tr>\n",
       "    <tr>\n",
       "      <th>annual_inc</th>\n",
       "      <td>0.000000</td>\n",
       "    </tr>\n",
       "    <tr>\n",
       "      <th>addr_state</th>\n",
       "      <td>0.000000</td>\n",
       "    </tr>\n",
       "    <tr>\n",
       "      <th>verification_status</th>\n",
       "      <td>0.000000</td>\n",
       "    </tr>\n",
       "    <tr>\n",
       "      <th>issue_d</th>\n",
       "      <td>0.000000</td>\n",
       "    </tr>\n",
       "    <tr>\n",
       "      <th>loan_status</th>\n",
       "      <td>0.000000</td>\n",
       "    </tr>\n",
       "    <tr>\n",
       "      <th>pymnt_plan</th>\n",
       "      <td>0.000000</td>\n",
       "    </tr>\n",
       "    <tr>\n",
       "      <th>url</th>\n",
       "      <td>0.000000</td>\n",
       "    </tr>\n",
       "    <tr>\n",
       "      <th>sub_grade</th>\n",
       "      <td>0.000000</td>\n",
       "    </tr>\n",
       "    <tr>\n",
       "      <th>purpose</th>\n",
       "      <td>0.000000</td>\n",
       "    </tr>\n",
       "    <tr>\n",
       "      <th>zip_code</th>\n",
       "      <td>0.000000</td>\n",
       "    </tr>\n",
       "    <tr>\n",
       "      <th>dti</th>\n",
       "      <td>0.000000</td>\n",
       "    </tr>\n",
       "    <tr>\n",
       "      <th>installment</th>\n",
       "      <td>0.000000</td>\n",
       "    </tr>\n",
       "    <tr>\n",
       "      <th>delinq_2yrs</th>\n",
       "      <td>0.000000</td>\n",
       "    </tr>\n",
       "    <tr>\n",
       "      <th>earliest_cr_line</th>\n",
       "      <td>0.000000</td>\n",
       "    </tr>\n",
       "    <tr>\n",
       "      <th>inq_last_6mths</th>\n",
       "      <td>0.000000</td>\n",
       "    </tr>\n",
       "    <tr>\n",
       "      <th>member_id</th>\n",
       "      <td>0.000000</td>\n",
       "    </tr>\n",
       "    <tr>\n",
       "      <th>grade</th>\n",
       "      <td>0.000000</td>\n",
       "    </tr>\n",
       "    <tr>\n",
       "      <th>open_acc</th>\n",
       "      <td>0.000000</td>\n",
       "    </tr>\n",
       "    <tr>\n",
       "      <th>pub_rec</th>\n",
       "      <td>0.000000</td>\n",
       "    </tr>\n",
       "    <tr>\n",
       "      <th>revol_bal</th>\n",
       "      <td>0.000000</td>\n",
       "    </tr>\n",
       "    <tr>\n",
       "      <th>id</th>\n",
       "      <td>0.000000</td>\n",
       "    </tr>\n",
       "  </tbody>\n",
       "</table>\n",
       "</div>"
      ],
      "text/plain": [
       "                               Values\n",
       "next_pymnt_d                97.129693\n",
       "mths_since_last_record      92.985372\n",
       "mths_since_last_delinq      64.662487\n",
       "desc                        32.580507\n",
       "emp_title                    6.191303\n",
       "emp_length                   2.706650\n",
       "pub_rec_bankruptcies         1.754916\n",
       "last_pymnt_d                 0.178765\n",
       "chargeoff_within_12_mths     0.140998\n",
       "collections_12_mths_ex_med   0.140998\n",
       "revol_util                   0.125891\n",
       "tax_liens                    0.098195\n",
       "title                        0.027696\n",
       "last_credit_pull_d           0.005036\n",
       "home_ownership               0.000000\n",
       "int_rate                     0.000000\n",
       "out_prncp_inv                0.000000\n",
       "total_pymnt                  0.000000\n",
       "total_pymnt_inv              0.000000\n",
       "total_rec_prncp              0.000000\n",
       "total_rec_int                0.000000\n",
       "total_rec_late_fee           0.000000\n",
       "recoveries                   0.000000\n",
       "collection_recovery_fee      0.000000\n",
       "term                         0.000000\n",
       "last_pymnt_amnt              0.000000\n",
       "initial_list_status          0.000000\n",
       "funded_amnt_inv              0.000000\n",
       "policy_code                  0.000000\n",
       "application_type             0.000000\n",
       "acc_now_delinq               0.000000\n",
       "funded_amnt                  0.000000\n",
       "delinq_amnt                  0.000000\n",
       "loan_amnt                    0.000000\n",
       "out_prncp                    0.000000\n",
       "total_acc                    0.000000\n",
       "annual_inc                   0.000000\n",
       "addr_state                   0.000000\n",
       "verification_status          0.000000\n",
       "issue_d                      0.000000\n",
       "loan_status                  0.000000\n",
       "pymnt_plan                   0.000000\n",
       "url                          0.000000\n",
       "sub_grade                    0.000000\n",
       "purpose                      0.000000\n",
       "zip_code                     0.000000\n",
       "dti                          0.000000\n",
       "installment                  0.000000\n",
       "delinq_2yrs                  0.000000\n",
       "earliest_cr_line             0.000000\n",
       "inq_last_6mths               0.000000\n",
       "member_id                    0.000000\n",
       "grade                        0.000000\n",
       "open_acc                     0.000000\n",
       "pub_rec                      0.000000\n",
       "revol_bal                    0.000000\n",
       "id                           0.000000"
      ]
     },
     "execution_count": 11,
     "metadata": {},
     "output_type": "execute_result"
    }
   ],
   "source": [
    "## finding % missing values by each column\n",
    "\n",
    "pd.DataFrame(loan.isna().sum(),columns=['Values']).apply(lambda x:(x/len(loan))*100).sort_values(by='Values',ascending=False)"
   ]
  },
  {
   "cell_type": "markdown",
   "id": "30ad08a9",
   "metadata": {},
   "source": [
    "### Top 4-5 rows here are the columns that have the highest number of missing values, need those to be cleaned up since they do not contribute to the analysis"
   ]
  },
  {
   "cell_type": "code",
   "execution_count": 12,
   "id": "8301973c",
   "metadata": {},
   "outputs": [],
   "source": [
    "loan.drop(labels=['next_pymnt_d','mths_since_last_delinq','mths_since_last_record','desc'],axis=1,inplace=True)"
   ]
  },
  {
   "cell_type": "code",
   "execution_count": 13,
   "id": "10ec3087",
   "metadata": {},
   "outputs": [
    {
     "data": {
      "image/png": "[encoded data removed]",
      "text/plain": [
       "<Figure size 864x1800 with 1 Axes>"
      ]
     },
     "metadata": {
      "needs_background": "light"
     },
     "output_type": "display_data"
    }
   ],
   "source": [
    "plt.figure(figsize=(12,25))\n",
    "sns.heatmap(loan.isna().transpose(),\n",
    "            cmap=\"viridis\",cbar=False)\n",
    "plt.show()"
   ]
  },
  {
   "cell_type": "code",
   "execution_count": 14,
   "id": "a8bc7bb7",
   "metadata": {},
   "outputs": [
    {
     "data": {
      "text/html": [
       "<div>\n",
       "<style scoped>\n",
       "    .dataframe tbody tr th:only-of-type {\n",
       "        vertical-align: middle;\n",
       "    }\n",
       "\n",
       "    .dataframe tbody tr th {\n",
       "        vertical-align: top;\n",
       "    }\n",
       "\n",
       "    .dataframe thead th {\n",
       "        text-align: right;\n",
       "    }\n",
       "</style>\n",
       "<table border=\"1\" class=\"dataframe\">\n",
       "  <thead>\n",
       "    <tr style=\"text-align: right;\">\n",
       "      <th></th>\n",
       "      <th>Values</th>\n",
       "    </tr>\n",
       "  </thead>\n",
       "  <tbody>\n",
       "    <tr>\n",
       "      <th>emp_title</th>\n",
       "      <td>2459</td>\n",
       "    </tr>\n",
       "    <tr>\n",
       "      <th>emp_length</th>\n",
       "      <td>1075</td>\n",
       "    </tr>\n",
       "    <tr>\n",
       "      <th>pub_rec_bankruptcies</th>\n",
       "      <td>697</td>\n",
       "    </tr>\n",
       "    <tr>\n",
       "      <th>last_pymnt_d</th>\n",
       "      <td>71</td>\n",
       "    </tr>\n",
       "    <tr>\n",
       "      <th>collections_12_mths_ex_med</th>\n",
       "      <td>56</td>\n",
       "    </tr>\n",
       "    <tr>\n",
       "      <th>chargeoff_within_12_mths</th>\n",
       "      <td>56</td>\n",
       "    </tr>\n",
       "    <tr>\n",
       "      <th>revol_util</th>\n",
       "      <td>50</td>\n",
       "    </tr>\n",
       "    <tr>\n",
       "      <th>tax_liens</th>\n",
       "      <td>39</td>\n",
       "    </tr>\n",
       "    <tr>\n",
       "      <th>title</th>\n",
       "      <td>11</td>\n",
       "    </tr>\n",
       "    <tr>\n",
       "      <th>last_credit_pull_d</th>\n",
       "      <td>2</td>\n",
       "    </tr>\n",
       "    <tr>\n",
       "      <th>total_rec_prncp</th>\n",
       "      <td>0</td>\n",
       "    </tr>\n",
       "    <tr>\n",
       "      <th>out_prncp</th>\n",
       "      <td>0</td>\n",
       "    </tr>\n",
       "    <tr>\n",
       "      <th>initial_list_status</th>\n",
       "      <td>0</td>\n",
       "    </tr>\n",
       "    <tr>\n",
       "      <th>out_prncp_inv</th>\n",
       "      <td>0</td>\n",
       "    </tr>\n",
       "    <tr>\n",
       "      <th>total_acc</th>\n",
       "      <td>0</td>\n",
       "    </tr>\n",
       "    <tr>\n",
       "      <th>total_pymnt</th>\n",
       "      <td>0</td>\n",
       "    </tr>\n",
       "    <tr>\n",
       "      <th>total_pymnt_inv</th>\n",
       "      <td>0</td>\n",
       "    </tr>\n",
       "    <tr>\n",
       "      <th>collection_recovery_fee</th>\n",
       "      <td>0</td>\n",
       "    </tr>\n",
       "    <tr>\n",
       "      <th>total_rec_int</th>\n",
       "      <td>0</td>\n",
       "    </tr>\n",
       "    <tr>\n",
       "      <th>total_rec_late_fee</th>\n",
       "      <td>0</td>\n",
       "    </tr>\n",
       "    <tr>\n",
       "      <th>recoveries</th>\n",
       "      <td>0</td>\n",
       "    </tr>\n",
       "    <tr>\n",
       "      <th>pub_rec</th>\n",
       "      <td>0</td>\n",
       "    </tr>\n",
       "    <tr>\n",
       "      <th>last_pymnt_amnt</th>\n",
       "      <td>0</td>\n",
       "    </tr>\n",
       "    <tr>\n",
       "      <th>policy_code</th>\n",
       "      <td>0</td>\n",
       "    </tr>\n",
       "    <tr>\n",
       "      <th>application_type</th>\n",
       "      <td>0</td>\n",
       "    </tr>\n",
       "    <tr>\n",
       "      <th>acc_now_delinq</th>\n",
       "      <td>0</td>\n",
       "    </tr>\n",
       "    <tr>\n",
       "      <th>delinq_amnt</th>\n",
       "      <td>0</td>\n",
       "    </tr>\n",
       "    <tr>\n",
       "      <th>revol_bal</th>\n",
       "      <td>0</td>\n",
       "    </tr>\n",
       "    <tr>\n",
       "      <th>id</th>\n",
       "      <td>0</td>\n",
       "    </tr>\n",
       "    <tr>\n",
       "      <th>open_acc</th>\n",
       "      <td>0</td>\n",
       "    </tr>\n",
       "    <tr>\n",
       "      <th>member_id</th>\n",
       "      <td>0</td>\n",
       "    </tr>\n",
       "    <tr>\n",
       "      <th>loan_amnt</th>\n",
       "      <td>0</td>\n",
       "    </tr>\n",
       "    <tr>\n",
       "      <th>funded_amnt</th>\n",
       "      <td>0</td>\n",
       "    </tr>\n",
       "    <tr>\n",
       "      <th>funded_amnt_inv</th>\n",
       "      <td>0</td>\n",
       "    </tr>\n",
       "    <tr>\n",
       "      <th>term</th>\n",
       "      <td>0</td>\n",
       "    </tr>\n",
       "    <tr>\n",
       "      <th>int_rate</th>\n",
       "      <td>0</td>\n",
       "    </tr>\n",
       "    <tr>\n",
       "      <th>installment</th>\n",
       "      <td>0</td>\n",
       "    </tr>\n",
       "    <tr>\n",
       "      <th>grade</th>\n",
       "      <td>0</td>\n",
       "    </tr>\n",
       "    <tr>\n",
       "      <th>sub_grade</th>\n",
       "      <td>0</td>\n",
       "    </tr>\n",
       "    <tr>\n",
       "      <th>home_ownership</th>\n",
       "      <td>0</td>\n",
       "    </tr>\n",
       "    <tr>\n",
       "      <th>annual_inc</th>\n",
       "      <td>0</td>\n",
       "    </tr>\n",
       "    <tr>\n",
       "      <th>verification_status</th>\n",
       "      <td>0</td>\n",
       "    </tr>\n",
       "    <tr>\n",
       "      <th>issue_d</th>\n",
       "      <td>0</td>\n",
       "    </tr>\n",
       "    <tr>\n",
       "      <th>loan_status</th>\n",
       "      <td>0</td>\n",
       "    </tr>\n",
       "    <tr>\n",
       "      <th>pymnt_plan</th>\n",
       "      <td>0</td>\n",
       "    </tr>\n",
       "    <tr>\n",
       "      <th>url</th>\n",
       "      <td>0</td>\n",
       "    </tr>\n",
       "    <tr>\n",
       "      <th>purpose</th>\n",
       "      <td>0</td>\n",
       "    </tr>\n",
       "    <tr>\n",
       "      <th>zip_code</th>\n",
       "      <td>0</td>\n",
       "    </tr>\n",
       "    <tr>\n",
       "      <th>addr_state</th>\n",
       "      <td>0</td>\n",
       "    </tr>\n",
       "    <tr>\n",
       "      <th>dti</th>\n",
       "      <td>0</td>\n",
       "    </tr>\n",
       "    <tr>\n",
       "      <th>delinq_2yrs</th>\n",
       "      <td>0</td>\n",
       "    </tr>\n",
       "    <tr>\n",
       "      <th>earliest_cr_line</th>\n",
       "      <td>0</td>\n",
       "    </tr>\n",
       "    <tr>\n",
       "      <th>inq_last_6mths</th>\n",
       "      <td>0</td>\n",
       "    </tr>\n",
       "  </tbody>\n",
       "</table>\n",
       "</div>"
      ],
      "text/plain": [
       "                            Values\n",
       "emp_title                     2459\n",
       "emp_length                    1075\n",
       "pub_rec_bankruptcies           697\n",
       "last_pymnt_d                    71\n",
       "collections_12_mths_ex_med      56\n",
       "chargeoff_within_12_mths        56\n",
       "revol_util                      50\n",
       "tax_liens                       39\n",
       "title                           11\n",
       "last_credit_pull_d               2\n",
       "total_rec_prncp                  0\n",
       "out_prncp                        0\n",
       "initial_list_status              0\n",
       "out_prncp_inv                    0\n",
       "total_acc                        0\n",
       "total_pymnt                      0\n",
       "total_pymnt_inv                  0\n",
       "collection_recovery_fee          0\n",
       "total_rec_int                    0\n",
       "total_rec_late_fee               0\n",
       "recoveries                       0\n",
       "pub_rec                          0\n",
       "last_pymnt_amnt                  0\n",
       "policy_code                      0\n",
       "application_type                 0\n",
       "acc_now_delinq                   0\n",
       "delinq_amnt                      0\n",
       "revol_bal                        0\n",
       "id                               0\n",
       "open_acc                         0\n",
       "member_id                        0\n",
       "loan_amnt                        0\n",
       "funded_amnt                      0\n",
       "funded_amnt_inv                  0\n",
       "term                             0\n",
       "int_rate                         0\n",
       "installment                      0\n",
       "grade                            0\n",
       "sub_grade                        0\n",
       "home_ownership                   0\n",
       "annual_inc                       0\n",
       "verification_status              0\n",
       "issue_d                          0\n",
       "loan_status                      0\n",
       "pymnt_plan                       0\n",
       "url                              0\n",
       "purpose                          0\n",
       "zip_code                         0\n",
       "addr_state                       0\n",
       "dti                              0\n",
       "delinq_2yrs                      0\n",
       "earliest_cr_line                 0\n",
       "inq_last_6mths                   0"
      ]
     },
     "execution_count": 14,
     "metadata": {},
     "output_type": "execute_result"
    }
   ],
   "source": [
    "pd.DataFrame(loan.isna().sum(),columns=['Values']).sort_values(by='Values',ascending=False)"
   ]
  },
  {
   "cell_type": "code",
   "execution_count": 15,
   "id": "21437d7d",
   "metadata": {},
   "outputs": [],
   "source": [
    "## dropping irrelevant columns\n",
    "loan = loan.drop(['id','member_id','emp_title','url','collections_12_mths_ex_med','policy_code','acc_now_delinq'\n",
    "           ,'chargeoff_within_12_mths','delinq_amnt','pub_rec_bankruptcies','tax_liens','earliest_cr_line'],axis=1)"
   ]
  },
  {
   "cell_type": "markdown",
   "id": "57e6a85d",
   "metadata": {},
   "source": [
    "#### We can drop rest of the missing values since they do not significantly impact the size of dataset to be analyzed"
   ]
  },
  {
   "cell_type": "code",
   "execution_count": 16,
   "id": "cec4b533",
   "metadata": {},
   "outputs": [],
   "source": [
    "loan.dropna(subset=['emp_length','last_pymnt_d'\n",
    "                    ,'revol_util','title','last_credit_pull_d'],inplace=True)"
   ]
  },
  {
   "cell_type": "markdown",
   "id": "678a4d2c",
   "metadata": {},
   "source": [
    "# Variable data type study and conversion\n",
    "    - Study the existing Data types.\n",
    "    - Convert them appropriately.\n",
    "    - Clean up variables"
   ]
  },
  {
   "cell_type": "code",
   "execution_count": 17,
   "id": "3ff64b84",
   "metadata": {},
   "outputs": [
    {
     "name": "stdout",
     "output_type": "stream",
     "text": [
      "<class 'pandas.core.frame.DataFrame'>\n",
      "Int64Index: 38521 entries, 0 to 39716\n",
      "Data columns (total 41 columns):\n",
      " #   Column                   Non-Null Count  Dtype  \n",
      "---  ------                   --------------  -----  \n",
      " 0   loan_amnt                38521 non-null  int64  \n",
      " 1   funded_amnt              38521 non-null  int64  \n",
      " 2   funded_amnt_inv          38521 non-null  float64\n",
      " 3   term                     38521 non-null  object \n",
      " 4   int_rate                 38521 non-null  object \n",
      " 5   installment              38521 non-null  float64\n",
      " 6   grade                    38521 non-null  object \n",
      " 7   sub_grade                38521 non-null  object \n",
      " 8   emp_length               38521 non-null  object \n",
      " 9   home_ownership           38521 non-null  object \n",
      " 10  annual_inc               38521 non-null  float64\n",
      " 11  verification_status      38521 non-null  object \n",
      " 12  issue_d                  38521 non-null  object \n",
      " 13  loan_status              38521 non-null  object \n",
      " 14  pymnt_plan               38521 non-null  object \n",
      " 15  purpose                  38521 non-null  object \n",
      " 16  title                    38521 non-null  object \n",
      " 17  zip_code                 38521 non-null  object \n",
      " 18  addr_state               38521 non-null  object \n",
      " 19  dti                      38521 non-null  float64\n",
      " 20  delinq_2yrs              38521 non-null  int64  \n",
      " 21  inq_last_6mths           38521 non-null  int64  \n",
      " 22  open_acc                 38521 non-null  int64  \n",
      " 23  pub_rec                  38521 non-null  int64  \n",
      " 24  revol_bal                38521 non-null  int64  \n",
      " 25  revol_util               38521 non-null  object \n",
      " 26  total_acc                38521 non-null  int64  \n",
      " 27  initial_list_status      38521 non-null  object \n",
      " 28  out_prncp                38521 non-null  float64\n",
      " 29  out_prncp_inv            38521 non-null  float64\n",
      " 30  total_pymnt              38521 non-null  float64\n",
      " 31  total_pymnt_inv          38521 non-null  float64\n",
      " 32  total_rec_prncp          38521 non-null  float64\n",
      " 33  total_rec_int            38521 non-null  float64\n",
      " 34  total_rec_late_fee       38521 non-null  float64\n",
      " 35  recoveries               38521 non-null  float64\n",
      " 36  collection_recovery_fee  38521 non-null  float64\n",
      " 37  last_pymnt_d             38521 non-null  object \n",
      " 38  last_pymnt_amnt          38521 non-null  float64\n",
      " 39  last_credit_pull_d       38521 non-null  object \n",
      " 40  application_type         38521 non-null  object \n",
      "dtypes: float64(14), int64(8), object(19)\n",
      "memory usage: 12.3+ MB\n"
     ]
    }
   ],
   "source": [
    "loan.info()"
   ]
  },
  {
   "cell_type": "code",
   "execution_count": 18,
   "id": "1e5c1908",
   "metadata": {},
   "outputs": [
    {
     "data": {
      "text/plain": [
       "RENT        18406\n",
       "MORTGAGE    17186\n",
       "OWN          2830\n",
       "OTHER          96\n",
       "NONE            3\n",
       "Name: home_ownership, dtype: int64"
      ]
     },
     "execution_count": 18,
     "metadata": {},
     "output_type": "execute_result"
    }
   ],
   "source": [
    "loan.home_ownership.value_counts()"
   ]
  },
  {
   "cell_type": "code",
   "execution_count": 19,
   "id": "eebf182f",
   "metadata": {},
   "outputs": [
    {
     "data": {
      "text/html": [
       "<div>\n",
       "<style scoped>\n",
       "    .dataframe tbody tr th:only-of-type {\n",
       "        vertical-align: middle;\n",
       "    }\n",
       "\n",
       "    .dataframe tbody tr th {\n",
       "        vertical-align: top;\n",
       "    }\n",
       "\n",
       "    .dataframe thead th {\n",
       "        text-align: right;\n",
       "    }\n",
       "</style>\n",
       "<table border=\"1\" class=\"dataframe\">\n",
       "  <thead>\n",
       "    <tr style=\"text-align: right;\">\n",
       "      <th></th>\n",
       "      <th>loan_amnt</th>\n",
       "      <th>funded_amnt</th>\n",
       "      <th>funded_amnt_inv</th>\n",
       "      <th>term</th>\n",
       "      <th>int_rate</th>\n",
       "      <th>installment</th>\n",
       "      <th>grade</th>\n",
       "      <th>sub_grade</th>\n",
       "      <th>emp_length</th>\n",
       "      <th>home_ownership</th>\n",
       "      <th>...</th>\n",
       "      <th>total_pymnt_inv</th>\n",
       "      <th>total_rec_prncp</th>\n",
       "      <th>total_rec_int</th>\n",
       "      <th>total_rec_late_fee</th>\n",
       "      <th>recoveries</th>\n",
       "      <th>collection_recovery_fee</th>\n",
       "      <th>last_pymnt_d</th>\n",
       "      <th>last_pymnt_amnt</th>\n",
       "      <th>last_credit_pull_d</th>\n",
       "      <th>application_type</th>\n",
       "    </tr>\n",
       "  </thead>\n",
       "  <tbody>\n",
       "    <tr>\n",
       "      <th>0</th>\n",
       "      <td>5000</td>\n",
       "      <td>5000</td>\n",
       "      <td>4975.0</td>\n",
       "      <td>36 months</td>\n",
       "      <td>10.65%</td>\n",
       "      <td>162.87</td>\n",
       "      <td>B</td>\n",
       "      <td>B2</td>\n",
       "      <td>10+ years</td>\n",
       "      <td>RENT</td>\n",
       "      <td>...</td>\n",
       "      <td>5833.84</td>\n",
       "      <td>5000.00</td>\n",
       "      <td>863.16</td>\n",
       "      <td>0.00</td>\n",
       "      <td>0.00</td>\n",
       "      <td>0.00</td>\n",
       "      <td>Jan-15</td>\n",
       "      <td>171.62</td>\n",
       "      <td>May-16</td>\n",
       "      <td>INDIVIDUAL</td>\n",
       "    </tr>\n",
       "    <tr>\n",
       "      <th>1</th>\n",
       "      <td>2500</td>\n",
       "      <td>2500</td>\n",
       "      <td>2500.0</td>\n",
       "      <td>60 months</td>\n",
       "      <td>15.27%</td>\n",
       "      <td>59.83</td>\n",
       "      <td>C</td>\n",
       "      <td>C4</td>\n",
       "      <td>&lt; 1 year</td>\n",
       "      <td>RENT</td>\n",
       "      <td>...</td>\n",
       "      <td>1008.71</td>\n",
       "      <td>456.46</td>\n",
       "      <td>435.17</td>\n",
       "      <td>0.00</td>\n",
       "      <td>117.08</td>\n",
       "      <td>1.11</td>\n",
       "      <td>Apr-13</td>\n",
       "      <td>119.66</td>\n",
       "      <td>Sep-13</td>\n",
       "      <td>INDIVIDUAL</td>\n",
       "    </tr>\n",
       "    <tr>\n",
       "      <th>2</th>\n",
       "      <td>2400</td>\n",
       "      <td>2400</td>\n",
       "      <td>2400.0</td>\n",
       "      <td>36 months</td>\n",
       "      <td>15.96%</td>\n",
       "      <td>84.33</td>\n",
       "      <td>C</td>\n",
       "      <td>C5</td>\n",
       "      <td>10+ years</td>\n",
       "      <td>RENT</td>\n",
       "      <td>...</td>\n",
       "      <td>3005.67</td>\n",
       "      <td>2400.00</td>\n",
       "      <td>605.67</td>\n",
       "      <td>0.00</td>\n",
       "      <td>0.00</td>\n",
       "      <td>0.00</td>\n",
       "      <td>Jun-14</td>\n",
       "      <td>649.91</td>\n",
       "      <td>May-16</td>\n",
       "      <td>INDIVIDUAL</td>\n",
       "    </tr>\n",
       "    <tr>\n",
       "      <th>3</th>\n",
       "      <td>10000</td>\n",
       "      <td>10000</td>\n",
       "      <td>10000.0</td>\n",
       "      <td>36 months</td>\n",
       "      <td>13.49%</td>\n",
       "      <td>339.31</td>\n",
       "      <td>C</td>\n",
       "      <td>C1</td>\n",
       "      <td>10+ years</td>\n",
       "      <td>RENT</td>\n",
       "      <td>...</td>\n",
       "      <td>12231.89</td>\n",
       "      <td>10000.00</td>\n",
       "      <td>2214.92</td>\n",
       "      <td>16.97</td>\n",
       "      <td>0.00</td>\n",
       "      <td>0.00</td>\n",
       "      <td>Jan-15</td>\n",
       "      <td>357.48</td>\n",
       "      <td>Apr-16</td>\n",
       "      <td>INDIVIDUAL</td>\n",
       "    </tr>\n",
       "    <tr>\n",
       "      <th>4</th>\n",
       "      <td>3000</td>\n",
       "      <td>3000</td>\n",
       "      <td>3000.0</td>\n",
       "      <td>60 months</td>\n",
       "      <td>12.69%</td>\n",
       "      <td>67.79</td>\n",
       "      <td>B</td>\n",
       "      <td>B5</td>\n",
       "      <td>1 year</td>\n",
       "      <td>RENT</td>\n",
       "      <td>...</td>\n",
       "      <td>3513.33</td>\n",
       "      <td>2475.94</td>\n",
       "      <td>1037.39</td>\n",
       "      <td>0.00</td>\n",
       "      <td>0.00</td>\n",
       "      <td>0.00</td>\n",
       "      <td>May-16</td>\n",
       "      <td>67.79</td>\n",
       "      <td>May-16</td>\n",
       "      <td>INDIVIDUAL</td>\n",
       "    </tr>\n",
       "    <tr>\n",
       "      <th>...</th>\n",
       "      <td>...</td>\n",
       "      <td>...</td>\n",
       "      <td>...</td>\n",
       "      <td>...</td>\n",
       "      <td>...</td>\n",
       "      <td>...</td>\n",
       "      <td>...</td>\n",
       "      <td>...</td>\n",
       "      <td>...</td>\n",
       "      <td>...</td>\n",
       "      <td>...</td>\n",
       "      <td>...</td>\n",
       "      <td>...</td>\n",
       "      <td>...</td>\n",
       "      <td>...</td>\n",
       "      <td>...</td>\n",
       "      <td>...</td>\n",
       "      <td>...</td>\n",
       "      <td>...</td>\n",
       "      <td>...</td>\n",
       "      <td>...</td>\n",
       "    </tr>\n",
       "    <tr>\n",
       "      <th>39712</th>\n",
       "      <td>2500</td>\n",
       "      <td>2500</td>\n",
       "      <td>1075.0</td>\n",
       "      <td>36 months</td>\n",
       "      <td>8.07%</td>\n",
       "      <td>78.42</td>\n",
       "      <td>A</td>\n",
       "      <td>A4</td>\n",
       "      <td>4 years</td>\n",
       "      <td>MORTGAGE</td>\n",
       "      <td>...</td>\n",
       "      <td>1213.88</td>\n",
       "      <td>2500.00</td>\n",
       "      <td>322.97</td>\n",
       "      <td>0.00</td>\n",
       "      <td>0.00</td>\n",
       "      <td>0.00</td>\n",
       "      <td>Jul-10</td>\n",
       "      <td>80.90</td>\n",
       "      <td>Jun-10</td>\n",
       "      <td>INDIVIDUAL</td>\n",
       "    </tr>\n",
       "    <tr>\n",
       "      <th>39713</th>\n",
       "      <td>8500</td>\n",
       "      <td>8500</td>\n",
       "      <td>875.0</td>\n",
       "      <td>36 months</td>\n",
       "      <td>10.28%</td>\n",
       "      <td>275.38</td>\n",
       "      <td>C</td>\n",
       "      <td>C1</td>\n",
       "      <td>3 years</td>\n",
       "      <td>RENT</td>\n",
       "      <td>...</td>\n",
       "      <td>1020.51</td>\n",
       "      <td>8500.00</td>\n",
       "      <td>1413.49</td>\n",
       "      <td>0.00</td>\n",
       "      <td>0.00</td>\n",
       "      <td>0.00</td>\n",
       "      <td>Jul-10</td>\n",
       "      <td>281.94</td>\n",
       "      <td>Jul-10</td>\n",
       "      <td>INDIVIDUAL</td>\n",
       "    </tr>\n",
       "    <tr>\n",
       "      <th>39714</th>\n",
       "      <td>5000</td>\n",
       "      <td>5000</td>\n",
       "      <td>1325.0</td>\n",
       "      <td>36 months</td>\n",
       "      <td>8.07%</td>\n",
       "      <td>156.84</td>\n",
       "      <td>A</td>\n",
       "      <td>A4</td>\n",
       "      <td>&lt; 1 year</td>\n",
       "      <td>MORTGAGE</td>\n",
       "      <td>...</td>\n",
       "      <td>1397.12</td>\n",
       "      <td>5000.00</td>\n",
       "      <td>272.16</td>\n",
       "      <td>0.00</td>\n",
       "      <td>0.00</td>\n",
       "      <td>0.00</td>\n",
       "      <td>Apr-08</td>\n",
       "      <td>0.00</td>\n",
       "      <td>Jun-07</td>\n",
       "      <td>INDIVIDUAL</td>\n",
       "    </tr>\n",
       "    <tr>\n",
       "      <th>39715</th>\n",
       "      <td>5000</td>\n",
       "      <td>5000</td>\n",
       "      <td>650.0</td>\n",
       "      <td>36 months</td>\n",
       "      <td>7.43%</td>\n",
       "      <td>155.38</td>\n",
       "      <td>A</td>\n",
       "      <td>A2</td>\n",
       "      <td>&lt; 1 year</td>\n",
       "      <td>MORTGAGE</td>\n",
       "      <td>...</td>\n",
       "      <td>672.66</td>\n",
       "      <td>5000.00</td>\n",
       "      <td>174.20</td>\n",
       "      <td>0.00</td>\n",
       "      <td>0.00</td>\n",
       "      <td>0.00</td>\n",
       "      <td>Jan-08</td>\n",
       "      <td>0.00</td>\n",
       "      <td>Jun-07</td>\n",
       "      <td>INDIVIDUAL</td>\n",
       "    </tr>\n",
       "    <tr>\n",
       "      <th>39716</th>\n",
       "      <td>7500</td>\n",
       "      <td>7500</td>\n",
       "      <td>800.0</td>\n",
       "      <td>36 months</td>\n",
       "      <td>13.75%</td>\n",
       "      <td>255.43</td>\n",
       "      <td>E</td>\n",
       "      <td>E2</td>\n",
       "      <td>&lt; 1 year</td>\n",
       "      <td>OWN</td>\n",
       "      <td>...</td>\n",
       "      <td>980.83</td>\n",
       "      <td>7500.00</td>\n",
       "      <td>1695.26</td>\n",
       "      <td>0.00</td>\n",
       "      <td>0.00</td>\n",
       "      <td>0.00</td>\n",
       "      <td>Jun-10</td>\n",
       "      <td>256.59</td>\n",
       "      <td>Jun-10</td>\n",
       "      <td>INDIVIDUAL</td>\n",
       "    </tr>\n",
       "  </tbody>\n",
       "</table>\n",
       "<p>38422 rows × 41 columns</p>\n",
       "</div>"
      ],
      "text/plain": [
       "       loan_amnt  funded_amnt  funded_amnt_inv        term int_rate  \\\n",
       "0           5000         5000           4975.0   36 months   10.65%   \n",
       "1           2500         2500           2500.0   60 months   15.27%   \n",
       "2           2400         2400           2400.0   36 months   15.96%   \n",
       "3          10000        10000          10000.0   36 months   13.49%   \n",
       "4           3000         3000           3000.0   60 months   12.69%   \n",
       "...          ...          ...              ...         ...      ...   \n",
       "39712       2500         2500           1075.0   36 months    8.07%   \n",
       "39713       8500         8500            875.0   36 months   10.28%   \n",
       "39714       5000         5000           1325.0   36 months    8.07%   \n",
       "39715       5000         5000            650.0   36 months    7.43%   \n",
       "39716       7500         7500            800.0   36 months   13.75%   \n",
       "\n",
       "       installment grade sub_grade emp_length home_ownership  ...  \\\n",
       "0           162.87     B        B2  10+ years           RENT  ...   \n",
       "1            59.83     C        C4   < 1 year           RENT  ...   \n",
       "2            84.33     C        C5  10+ years           RENT  ...   \n",
       "3           339.31     C        C1  10+ years           RENT  ...   \n",
       "4            67.79     B        B5     1 year           RENT  ...   \n",
       "...            ...   ...       ...        ...            ...  ...   \n",
       "39712        78.42     A        A4    4 years       MORTGAGE  ...   \n",
       "39713       275.38     C        C1    3 years           RENT  ...   \n",
       "39714       156.84     A        A4   < 1 year       MORTGAGE  ...   \n",
       "39715       155.38     A        A2   < 1 year       MORTGAGE  ...   \n",
       "39716       255.43     E        E2   < 1 year            OWN  ...   \n",
       "\n",
       "       total_pymnt_inv total_rec_prncp total_rec_int total_rec_late_fee  \\\n",
       "0              5833.84         5000.00        863.16               0.00   \n",
       "1              1008.71          456.46        435.17               0.00   \n",
       "2              3005.67         2400.00        605.67               0.00   \n",
       "3             12231.89        10000.00       2214.92              16.97   \n",
       "4              3513.33         2475.94       1037.39               0.00   \n",
       "...                ...             ...           ...                ...   \n",
       "39712          1213.88         2500.00        322.97               0.00   \n",
       "39713          1020.51         8500.00       1413.49               0.00   \n",
       "39714          1397.12         5000.00        272.16               0.00   \n",
       "39715           672.66         5000.00        174.20               0.00   \n",
       "39716           980.83         7500.00       1695.26               0.00   \n",
       "\n",
       "      recoveries collection_recovery_fee last_pymnt_d last_pymnt_amnt  \\\n",
       "0           0.00                    0.00       Jan-15          171.62   \n",
       "1         117.08                    1.11       Apr-13          119.66   \n",
       "2           0.00                    0.00       Jun-14          649.91   \n",
       "3           0.00                    0.00       Jan-15          357.48   \n",
       "4           0.00                    0.00       May-16           67.79   \n",
       "...          ...                     ...          ...             ...   \n",
       "39712       0.00                    0.00       Jul-10           80.90   \n",
       "39713       0.00                    0.00       Jul-10          281.94   \n",
       "39714       0.00                    0.00       Apr-08            0.00   \n",
       "39715       0.00                    0.00       Jan-08            0.00   \n",
       "39716       0.00                    0.00       Jun-10          256.59   \n",
       "\n",
       "      last_credit_pull_d  application_type  \n",
       "0                 May-16        INDIVIDUAL  \n",
       "1                 Sep-13        INDIVIDUAL  \n",
       "2                 May-16        INDIVIDUAL  \n",
       "3                 Apr-16        INDIVIDUAL  \n",
       "4                 May-16        INDIVIDUAL  \n",
       "...                  ...               ...  \n",
       "39712             Jun-10        INDIVIDUAL  \n",
       "39713             Jul-10        INDIVIDUAL  \n",
       "39714             Jun-07        INDIVIDUAL  \n",
       "39715             Jun-07        INDIVIDUAL  \n",
       "39716             Jun-10        INDIVIDUAL  \n",
       "\n",
       "[38422 rows x 41 columns]"
      ]
     },
     "execution_count": 19,
     "metadata": {},
     "output_type": "execute_result"
    }
   ],
   "source": [
    "loan[~(loan['home_ownership'].isin(['OTHER','NONE']))]"
   ]
  },
  {
   "cell_type": "code",
   "execution_count": 20,
   "id": "263472dd",
   "metadata": {},
   "outputs": [
    {
     "data": {
      "text/plain": [
       "0     0.891124\n",
       "1     0.083539\n",
       "2     0.017263\n",
       "3     0.005529\n",
       "4     0.001532\n",
       "5     0.000545\n",
       "6     0.000260\n",
       "7     0.000104\n",
       "8     0.000052\n",
       "9     0.000026\n",
       "11    0.000026\n",
       "Name: delinq_2yrs, dtype: float64"
      ]
     },
     "execution_count": 20,
     "metadata": {},
     "output_type": "execute_result"
    }
   ],
   "source": [
    "loan.delinq_2yrs.value_counts(normalize=True)"
   ]
  },
  {
   "cell_type": "markdown",
   "id": "0402dac5",
   "metadata": {},
   "source": [
    "`89% are zeros hence qualify for a column drop`"
   ]
  },
  {
   "cell_type": "code",
   "execution_count": 21,
   "id": "2124690f",
   "metadata": {},
   "outputs": [],
   "source": [
    "loan.drop('delinq_2yrs',axis=1,inplace=True)"
   ]
  },
  {
   "cell_type": "code",
   "execution_count": 22,
   "id": "92d0cf84",
   "metadata": {},
   "outputs": [
    {
     "data": {
      "text/plain": [
       "n    1.0\n",
       "Name: pymnt_plan, dtype: float64"
      ]
     },
     "execution_count": 22,
     "metadata": {},
     "output_type": "execute_result"
    }
   ],
   "source": [
    "loan.pymnt_plan.value_counts(normalize=True)"
   ]
  },
  {
   "cell_type": "code",
   "execution_count": 23,
   "id": "bf10df9a",
   "metadata": {},
   "outputs": [],
   "source": [
    "loan.drop('pymnt_plan',axis=1,inplace=True)"
   ]
  },
  {
   "cell_type": "code",
   "execution_count": 24,
   "id": "bd11340a",
   "metadata": {},
   "outputs": [
    {
     "data": {
      "text/plain": [
       "INDIVIDUAL    1.0\n",
       "Name: application_type, dtype: float64"
      ]
     },
     "execution_count": 24,
     "metadata": {},
     "output_type": "execute_result"
    }
   ],
   "source": [
    "loan.application_type.value_counts(normalize=True)"
   ]
  },
  {
   "cell_type": "code",
   "execution_count": 25,
   "id": "86085f7b",
   "metadata": {},
   "outputs": [],
   "source": [
    "loan.drop('application_type',axis=1,inplace=True)"
   ]
  },
  {
   "cell_type": "code",
   "execution_count": 26,
   "id": "a9a9dacc",
   "metadata": {},
   "outputs": [
    {
     "data": {
      "text/plain": [
       "0.000000     0.948366\n",
       "15.000000    0.006308\n",
       "30.000000    0.001402\n",
       "15.000000    0.001402\n",
       "15.000000    0.001090\n",
       "               ...   \n",
       "67.606386    0.000026\n",
       "24.330000    0.000026\n",
       "37.088716    0.000026\n",
       "14.957851    0.000026\n",
       "19.890000    0.000026\n",
       "Name: total_rec_late_fee, Length: 1327, dtype: float64"
      ]
     },
     "execution_count": 26,
     "metadata": {},
     "output_type": "execute_result"
    }
   ],
   "source": [
    "loan.total_rec_late_fee.value_counts(normalize=True)"
   ]
  },
  {
   "cell_type": "markdown",
   "id": "9a8547b5",
   "metadata": {},
   "source": [
    "`94% fall under zero so column can be dropped`"
   ]
  },
  {
   "cell_type": "code",
   "execution_count": 27,
   "id": "75301741",
   "metadata": {},
   "outputs": [],
   "source": [
    "loan.drop('total_rec_late_fee',axis=1,inplace=True)"
   ]
  },
  {
   "cell_type": "code",
   "execution_count": 28,
   "id": "b8519482",
   "metadata": {},
   "outputs": [
    {
     "data": {
      "text/plain": [
       "<AxesSubplot:xlabel='loan_status', ylabel='installment'>"
      ]
     },
     "execution_count": 28,
     "metadata": {},
     "output_type": "execute_result"
    },
    {
     "data": {
      "image/png": "[encoded data removed]",
      "text/plain": [
       "<Figure size 432x288 with 1 Axes>"
      ]
     },
     "metadata": {
      "needs_background": "light"
     },
     "output_type": "display_data"
    }
   ],
   "source": [
    "sns.boxplot(x='loan_status',y='installment',data=loan)"
   ]
  },
  {
   "cell_type": "markdown",
   "id": "a3d9f384",
   "metadata": {},
   "source": [
    "          No significant impact of installments"
   ]
  },
  {
   "cell_type": "code",
   "execution_count": 29,
   "id": "cc2ce517",
   "metadata": {},
   "outputs": [],
   "source": [
    "loan.drop('installment',axis=1,inplace=True)"
   ]
  },
  {
   "cell_type": "code",
   "execution_count": 30,
   "id": "da8ca3b0",
   "metadata": {},
   "outputs": [
    {
     "data": {
      "text/html": [
       "<div>\n",
       "<style scoped>\n",
       "    .dataframe tbody tr th:only-of-type {\n",
       "        vertical-align: middle;\n",
       "    }\n",
       "\n",
       "    .dataframe tbody tr th {\n",
       "        vertical-align: top;\n",
       "    }\n",
       "\n",
       "    .dataframe thead th {\n",
       "        text-align: right;\n",
       "    }\n",
       "</style>\n",
       "<table border=\"1\" class=\"dataframe\">\n",
       "  <thead>\n",
       "    <tr style=\"text-align: right;\">\n",
       "      <th></th>\n",
       "      <th>loan_amnt</th>\n",
       "      <th>funded_amnt</th>\n",
       "      <th>funded_amnt_inv</th>\n",
       "      <th>annual_inc</th>\n",
       "      <th>dti</th>\n",
       "      <th>inq_last_6mths</th>\n",
       "      <th>open_acc</th>\n",
       "      <th>pub_rec</th>\n",
       "      <th>revol_bal</th>\n",
       "      <th>total_acc</th>\n",
       "      <th>out_prncp</th>\n",
       "      <th>out_prncp_inv</th>\n",
       "      <th>total_pymnt</th>\n",
       "      <th>total_pymnt_inv</th>\n",
       "      <th>total_rec_prncp</th>\n",
       "      <th>total_rec_int</th>\n",
       "      <th>recoveries</th>\n",
       "      <th>collection_recovery_fee</th>\n",
       "      <th>last_pymnt_amnt</th>\n",
       "    </tr>\n",
       "  </thead>\n",
       "  <tbody>\n",
       "    <tr>\n",
       "      <th>0</th>\n",
       "      <td>5000</td>\n",
       "      <td>5000</td>\n",
       "      <td>4975.0</td>\n",
       "      <td>24000.0</td>\n",
       "      <td>27.65</td>\n",
       "      <td>1</td>\n",
       "      <td>3</td>\n",
       "      <td>0</td>\n",
       "      <td>13648</td>\n",
       "      <td>9</td>\n",
       "      <td>0.00</td>\n",
       "      <td>0.00</td>\n",
       "      <td>5863.155187</td>\n",
       "      <td>5833.84</td>\n",
       "      <td>5000.00</td>\n",
       "      <td>863.16</td>\n",
       "      <td>0.00</td>\n",
       "      <td>0.00</td>\n",
       "      <td>171.62</td>\n",
       "    </tr>\n",
       "    <tr>\n",
       "      <th>1</th>\n",
       "      <td>2500</td>\n",
       "      <td>2500</td>\n",
       "      <td>2500.0</td>\n",
       "      <td>30000.0</td>\n",
       "      <td>1.00</td>\n",
       "      <td>5</td>\n",
       "      <td>3</td>\n",
       "      <td>0</td>\n",
       "      <td>1687</td>\n",
       "      <td>4</td>\n",
       "      <td>0.00</td>\n",
       "      <td>0.00</td>\n",
       "      <td>1008.710000</td>\n",
       "      <td>1008.71</td>\n",
       "      <td>456.46</td>\n",
       "      <td>435.17</td>\n",
       "      <td>117.08</td>\n",
       "      <td>1.11</td>\n",
       "      <td>119.66</td>\n",
       "    </tr>\n",
       "    <tr>\n",
       "      <th>2</th>\n",
       "      <td>2400</td>\n",
       "      <td>2400</td>\n",
       "      <td>2400.0</td>\n",
       "      <td>12252.0</td>\n",
       "      <td>8.72</td>\n",
       "      <td>2</td>\n",
       "      <td>2</td>\n",
       "      <td>0</td>\n",
       "      <td>2956</td>\n",
       "      <td>10</td>\n",
       "      <td>0.00</td>\n",
       "      <td>0.00</td>\n",
       "      <td>3005.666844</td>\n",
       "      <td>3005.67</td>\n",
       "      <td>2400.00</td>\n",
       "      <td>605.67</td>\n",
       "      <td>0.00</td>\n",
       "      <td>0.00</td>\n",
       "      <td>649.91</td>\n",
       "    </tr>\n",
       "    <tr>\n",
       "      <th>3</th>\n",
       "      <td>10000</td>\n",
       "      <td>10000</td>\n",
       "      <td>10000.0</td>\n",
       "      <td>49200.0</td>\n",
       "      <td>20.00</td>\n",
       "      <td>1</td>\n",
       "      <td>10</td>\n",
       "      <td>0</td>\n",
       "      <td>5598</td>\n",
       "      <td>37</td>\n",
       "      <td>0.00</td>\n",
       "      <td>0.00</td>\n",
       "      <td>12231.890000</td>\n",
       "      <td>12231.89</td>\n",
       "      <td>10000.00</td>\n",
       "      <td>2214.92</td>\n",
       "      <td>0.00</td>\n",
       "      <td>0.00</td>\n",
       "      <td>357.48</td>\n",
       "    </tr>\n",
       "    <tr>\n",
       "      <th>4</th>\n",
       "      <td>3000</td>\n",
       "      <td>3000</td>\n",
       "      <td>3000.0</td>\n",
       "      <td>80000.0</td>\n",
       "      <td>17.94</td>\n",
       "      <td>0</td>\n",
       "      <td>15</td>\n",
       "      <td>0</td>\n",
       "      <td>27783</td>\n",
       "      <td>38</td>\n",
       "      <td>524.06</td>\n",
       "      <td>524.06</td>\n",
       "      <td>3513.330000</td>\n",
       "      <td>3513.33</td>\n",
       "      <td>2475.94</td>\n",
       "      <td>1037.39</td>\n",
       "      <td>0.00</td>\n",
       "      <td>0.00</td>\n",
       "      <td>67.79</td>\n",
       "    </tr>\n",
       "    <tr>\n",
       "      <th>...</th>\n",
       "      <td>...</td>\n",
       "      <td>...</td>\n",
       "      <td>...</td>\n",
       "      <td>...</td>\n",
       "      <td>...</td>\n",
       "      <td>...</td>\n",
       "      <td>...</td>\n",
       "      <td>...</td>\n",
       "      <td>...</td>\n",
       "      <td>...</td>\n",
       "      <td>...</td>\n",
       "      <td>...</td>\n",
       "      <td>...</td>\n",
       "      <td>...</td>\n",
       "      <td>...</td>\n",
       "      <td>...</td>\n",
       "      <td>...</td>\n",
       "      <td>...</td>\n",
       "      <td>...</td>\n",
       "    </tr>\n",
       "    <tr>\n",
       "      <th>39712</th>\n",
       "      <td>2500</td>\n",
       "      <td>2500</td>\n",
       "      <td>1075.0</td>\n",
       "      <td>110000.0</td>\n",
       "      <td>11.33</td>\n",
       "      <td>0</td>\n",
       "      <td>13</td>\n",
       "      <td>0</td>\n",
       "      <td>7274</td>\n",
       "      <td>40</td>\n",
       "      <td>0.00</td>\n",
       "      <td>0.00</td>\n",
       "      <td>2822.969293</td>\n",
       "      <td>1213.88</td>\n",
       "      <td>2500.00</td>\n",
       "      <td>322.97</td>\n",
       "      <td>0.00</td>\n",
       "      <td>0.00</td>\n",
       "      <td>80.90</td>\n",
       "    </tr>\n",
       "    <tr>\n",
       "      <th>39713</th>\n",
       "      <td>8500</td>\n",
       "      <td>8500</td>\n",
       "      <td>875.0</td>\n",
       "      <td>18000.0</td>\n",
       "      <td>6.40</td>\n",
       "      <td>1</td>\n",
       "      <td>6</td>\n",
       "      <td>0</td>\n",
       "      <td>8847</td>\n",
       "      <td>9</td>\n",
       "      <td>0.00</td>\n",
       "      <td>0.00</td>\n",
       "      <td>9913.491822</td>\n",
       "      <td>1020.51</td>\n",
       "      <td>8500.00</td>\n",
       "      <td>1413.49</td>\n",
       "      <td>0.00</td>\n",
       "      <td>0.00</td>\n",
       "      <td>281.94</td>\n",
       "    </tr>\n",
       "    <tr>\n",
       "      <th>39714</th>\n",
       "      <td>5000</td>\n",
       "      <td>5000</td>\n",
       "      <td>1325.0</td>\n",
       "      <td>100000.0</td>\n",
       "      <td>2.30</td>\n",
       "      <td>0</td>\n",
       "      <td>11</td>\n",
       "      <td>0</td>\n",
       "      <td>9698</td>\n",
       "      <td>20</td>\n",
       "      <td>0.00</td>\n",
       "      <td>0.00</td>\n",
       "      <td>5272.161128</td>\n",
       "      <td>1397.12</td>\n",
       "      <td>5000.00</td>\n",
       "      <td>272.16</td>\n",
       "      <td>0.00</td>\n",
       "      <td>0.00</td>\n",
       "      <td>0.00</td>\n",
       "    </tr>\n",
       "    <tr>\n",
       "      <th>39715</th>\n",
       "      <td>5000</td>\n",
       "      <td>5000</td>\n",
       "      <td>650.0</td>\n",
       "      <td>200000.0</td>\n",
       "      <td>3.72</td>\n",
       "      <td>0</td>\n",
       "      <td>17</td>\n",
       "      <td>0</td>\n",
       "      <td>85607</td>\n",
       "      <td>26</td>\n",
       "      <td>0.00</td>\n",
       "      <td>0.00</td>\n",
       "      <td>5174.198551</td>\n",
       "      <td>672.66</td>\n",
       "      <td>5000.00</td>\n",
       "      <td>174.20</td>\n",
       "      <td>0.00</td>\n",
       "      <td>0.00</td>\n",
       "      <td>0.00</td>\n",
       "    </tr>\n",
       "    <tr>\n",
       "      <th>39716</th>\n",
       "      <td>7500</td>\n",
       "      <td>7500</td>\n",
       "      <td>800.0</td>\n",
       "      <td>22000.0</td>\n",
       "      <td>14.29</td>\n",
       "      <td>0</td>\n",
       "      <td>7</td>\n",
       "      <td>0</td>\n",
       "      <td>4175</td>\n",
       "      <td>8</td>\n",
       "      <td>0.00</td>\n",
       "      <td>0.00</td>\n",
       "      <td>9195.263334</td>\n",
       "      <td>980.83</td>\n",
       "      <td>7500.00</td>\n",
       "      <td>1695.26</td>\n",
       "      <td>0.00</td>\n",
       "      <td>0.00</td>\n",
       "      <td>256.59</td>\n",
       "    </tr>\n",
       "  </tbody>\n",
       "</table>\n",
       "<p>38521 rows × 19 columns</p>\n",
       "</div>"
      ],
      "text/plain": [
       "       loan_amnt  funded_amnt  funded_amnt_inv  annual_inc    dti  \\\n",
       "0           5000         5000           4975.0     24000.0  27.65   \n",
       "1           2500         2500           2500.0     30000.0   1.00   \n",
       "2           2400         2400           2400.0     12252.0   8.72   \n",
       "3          10000        10000          10000.0     49200.0  20.00   \n",
       "4           3000         3000           3000.0     80000.0  17.94   \n",
       "...          ...          ...              ...         ...    ...   \n",
       "39712       2500         2500           1075.0    110000.0  11.33   \n",
       "39713       8500         8500            875.0     18000.0   6.40   \n",
       "39714       5000         5000           1325.0    100000.0   2.30   \n",
       "39715       5000         5000            650.0    200000.0   3.72   \n",
       "39716       7500         7500            800.0     22000.0  14.29   \n",
       "\n",
       "       inq_last_6mths  open_acc  pub_rec  revol_bal  total_acc  out_prncp  \\\n",
       "0                   1         3        0      13648          9       0.00   \n",
       "1                   5         3        0       1687          4       0.00   \n",
       "2                   2         2        0       2956         10       0.00   \n",
       "3                   1        10        0       5598         37       0.00   \n",
       "4                   0        15        0      27783         38     524.06   \n",
       "...               ...       ...      ...        ...        ...        ...   \n",
       "39712               0        13        0       7274         40       0.00   \n",
       "39713               1         6        0       8847          9       0.00   \n",
       "39714               0        11        0       9698         20       0.00   \n",
       "39715               0        17        0      85607         26       0.00   \n",
       "39716               0         7        0       4175          8       0.00   \n",
       "\n",
       "       out_prncp_inv   total_pymnt  total_pymnt_inv  total_rec_prncp  \\\n",
       "0               0.00   5863.155187          5833.84          5000.00   \n",
       "1               0.00   1008.710000          1008.71           456.46   \n",
       "2               0.00   3005.666844          3005.67          2400.00   \n",
       "3               0.00  12231.890000         12231.89         10000.00   \n",
       "4             524.06   3513.330000          3513.33          2475.94   \n",
       "...              ...           ...              ...              ...   \n",
       "39712           0.00   2822.969293          1213.88          2500.00   \n",
       "39713           0.00   9913.491822          1020.51          8500.00   \n",
       "39714           0.00   5272.161128          1397.12          5000.00   \n",
       "39715           0.00   5174.198551           672.66          5000.00   \n",
       "39716           0.00   9195.263334           980.83          7500.00   \n",
       "\n",
       "       total_rec_int  recoveries  collection_recovery_fee  last_pymnt_amnt  \n",
       "0             863.16        0.00                     0.00           171.62  \n",
       "1             435.17      117.08                     1.11           119.66  \n",
       "2             605.67        0.00                     0.00           649.91  \n",
       "3            2214.92        0.00                     0.00           357.48  \n",
       "4            1037.39        0.00                     0.00            67.79  \n",
       "...              ...         ...                      ...              ...  \n",
       "39712         322.97        0.00                     0.00            80.90  \n",
       "39713        1413.49        0.00                     0.00           281.94  \n",
       "39714         272.16        0.00                     0.00             0.00  \n",
       "39715         174.20        0.00                     0.00             0.00  \n",
       "39716        1695.26        0.00                     0.00           256.59  \n",
       "\n",
       "[38521 rows x 19 columns]"
      ]
     },
     "execution_count": 30,
     "metadata": {},
     "output_type": "execute_result"
    }
   ],
   "source": [
    "loan.select_dtypes(include=['int64','float64'])"
   ]
  },
  {
   "cell_type": "code",
   "execution_count": 31,
   "id": "678a02f0",
   "metadata": {},
   "outputs": [],
   "source": [
    "## Converting number types: integer and float\n",
    "\n",
    "loan['term'] = loan['term'].apply(lambda x:int(x[:3]))\n",
    "\n",
    "loan['int_rate'] = loan['int_rate'].apply((lambda x:float(x[:-1])))\n",
    "\n",
    "loan['revol_util'] = loan['revol_util'].apply((lambda x:float(x[:-1])))"
   ]
  },
  {
   "cell_type": "code",
   "execution_count": 32,
   "id": "d5b16211",
   "metadata": {},
   "outputs": [
    {
     "data": {
      "text/html": [
       "<div>\n",
       "<style scoped>\n",
       "    .dataframe tbody tr th:only-of-type {\n",
       "        vertical-align: middle;\n",
       "    }\n",
       "\n",
       "    .dataframe tbody tr th {\n",
       "        vertical-align: top;\n",
       "    }\n",
       "\n",
       "    .dataframe thead th {\n",
       "        text-align: right;\n",
       "    }\n",
       "</style>\n",
       "<table border=\"1\" class=\"dataframe\">\n",
       "  <thead>\n",
       "    <tr style=\"text-align: right;\">\n",
       "      <th></th>\n",
       "      <th>grade</th>\n",
       "      <th>sub_grade</th>\n",
       "      <th>emp_length</th>\n",
       "      <th>home_ownership</th>\n",
       "      <th>verification_status</th>\n",
       "      <th>issue_d</th>\n",
       "      <th>loan_status</th>\n",
       "      <th>purpose</th>\n",
       "      <th>title</th>\n",
       "      <th>zip_code</th>\n",
       "      <th>addr_state</th>\n",
       "      <th>initial_list_status</th>\n",
       "      <th>last_pymnt_d</th>\n",
       "      <th>last_credit_pull_d</th>\n",
       "    </tr>\n",
       "  </thead>\n",
       "  <tbody>\n",
       "    <tr>\n",
       "      <th>0</th>\n",
       "      <td>B</td>\n",
       "      <td>B2</td>\n",
       "      <td>10+ years</td>\n",
       "      <td>RENT</td>\n",
       "      <td>Verified</td>\n",
       "      <td>Dec-11</td>\n",
       "      <td>Fully Paid</td>\n",
       "      <td>credit_card</td>\n",
       "      <td>Computer</td>\n",
       "      <td>860xx</td>\n",
       "      <td>AZ</td>\n",
       "      <td>f</td>\n",
       "      <td>Jan-15</td>\n",
       "      <td>May-16</td>\n",
       "    </tr>\n",
       "    <tr>\n",
       "      <th>1</th>\n",
       "      <td>C</td>\n",
       "      <td>C4</td>\n",
       "      <td>&lt; 1 year</td>\n",
       "      <td>RENT</td>\n",
       "      <td>Source Verified</td>\n",
       "      <td>Dec-11</td>\n",
       "      <td>Charged Off</td>\n",
       "      <td>car</td>\n",
       "      <td>bike</td>\n",
       "      <td>309xx</td>\n",
       "      <td>GA</td>\n",
       "      <td>f</td>\n",
       "      <td>Apr-13</td>\n",
       "      <td>Sep-13</td>\n",
       "    </tr>\n",
       "    <tr>\n",
       "      <th>2</th>\n",
       "      <td>C</td>\n",
       "      <td>C5</td>\n",
       "      <td>10+ years</td>\n",
       "      <td>RENT</td>\n",
       "      <td>Not Verified</td>\n",
       "      <td>Dec-11</td>\n",
       "      <td>Fully Paid</td>\n",
       "      <td>small_business</td>\n",
       "      <td>real estate business</td>\n",
       "      <td>606xx</td>\n",
       "      <td>IL</td>\n",
       "      <td>f</td>\n",
       "      <td>Jun-14</td>\n",
       "      <td>May-16</td>\n",
       "    </tr>\n",
       "    <tr>\n",
       "      <th>3</th>\n",
       "      <td>C</td>\n",
       "      <td>C1</td>\n",
       "      <td>10+ years</td>\n",
       "      <td>RENT</td>\n",
       "      <td>Source Verified</td>\n",
       "      <td>Dec-11</td>\n",
       "      <td>Fully Paid</td>\n",
       "      <td>other</td>\n",
       "      <td>personel</td>\n",
       "      <td>917xx</td>\n",
       "      <td>CA</td>\n",
       "      <td>f</td>\n",
       "      <td>Jan-15</td>\n",
       "      <td>Apr-16</td>\n",
       "    </tr>\n",
       "    <tr>\n",
       "      <th>4</th>\n",
       "      <td>B</td>\n",
       "      <td>B5</td>\n",
       "      <td>1 year</td>\n",
       "      <td>RENT</td>\n",
       "      <td>Source Verified</td>\n",
       "      <td>Dec-11</td>\n",
       "      <td>Current</td>\n",
       "      <td>other</td>\n",
       "      <td>Personal</td>\n",
       "      <td>972xx</td>\n",
       "      <td>OR</td>\n",
       "      <td>f</td>\n",
       "      <td>May-16</td>\n",
       "      <td>May-16</td>\n",
       "    </tr>\n",
       "    <tr>\n",
       "      <th>...</th>\n",
       "      <td>...</td>\n",
       "      <td>...</td>\n",
       "      <td>...</td>\n",
       "      <td>...</td>\n",
       "      <td>...</td>\n",
       "      <td>...</td>\n",
       "      <td>...</td>\n",
       "      <td>...</td>\n",
       "      <td>...</td>\n",
       "      <td>...</td>\n",
       "      <td>...</td>\n",
       "      <td>...</td>\n",
       "      <td>...</td>\n",
       "      <td>...</td>\n",
       "    </tr>\n",
       "    <tr>\n",
       "      <th>39712</th>\n",
       "      <td>A</td>\n",
       "      <td>A4</td>\n",
       "      <td>4 years</td>\n",
       "      <td>MORTGAGE</td>\n",
       "      <td>Not Verified</td>\n",
       "      <td>Jul-07</td>\n",
       "      <td>Fully Paid</td>\n",
       "      <td>home_improvement</td>\n",
       "      <td>Home Improvement</td>\n",
       "      <td>802xx</td>\n",
       "      <td>CO</td>\n",
       "      <td>f</td>\n",
       "      <td>Jul-10</td>\n",
       "      <td>Jun-10</td>\n",
       "    </tr>\n",
       "    <tr>\n",
       "      <th>39713</th>\n",
       "      <td>C</td>\n",
       "      <td>C1</td>\n",
       "      <td>3 years</td>\n",
       "      <td>RENT</td>\n",
       "      <td>Not Verified</td>\n",
       "      <td>Jul-07</td>\n",
       "      <td>Fully Paid</td>\n",
       "      <td>credit_card</td>\n",
       "      <td>Retiring credit card debt</td>\n",
       "      <td>274xx</td>\n",
       "      <td>NC</td>\n",
       "      <td>f</td>\n",
       "      <td>Jul-10</td>\n",
       "      <td>Jul-10</td>\n",
       "    </tr>\n",
       "    <tr>\n",
       "      <th>39714</th>\n",
       "      <td>A</td>\n",
       "      <td>A4</td>\n",
       "      <td>&lt; 1 year</td>\n",
       "      <td>MORTGAGE</td>\n",
       "      <td>Not Verified</td>\n",
       "      <td>Jul-07</td>\n",
       "      <td>Fully Paid</td>\n",
       "      <td>debt_consolidation</td>\n",
       "      <td>MBA Loan Consolidation</td>\n",
       "      <td>017xx</td>\n",
       "      <td>MA</td>\n",
       "      <td>f</td>\n",
       "      <td>Apr-08</td>\n",
       "      <td>Jun-07</td>\n",
       "    </tr>\n",
       "    <tr>\n",
       "      <th>39715</th>\n",
       "      <td>A</td>\n",
       "      <td>A2</td>\n",
       "      <td>&lt; 1 year</td>\n",
       "      <td>MORTGAGE</td>\n",
       "      <td>Not Verified</td>\n",
       "      <td>Jul-07</td>\n",
       "      <td>Fully Paid</td>\n",
       "      <td>other</td>\n",
       "      <td>JAL Loan</td>\n",
       "      <td>208xx</td>\n",
       "      <td>MD</td>\n",
       "      <td>f</td>\n",
       "      <td>Jan-08</td>\n",
       "      <td>Jun-07</td>\n",
       "    </tr>\n",
       "    <tr>\n",
       "      <th>39716</th>\n",
       "      <td>E</td>\n",
       "      <td>E2</td>\n",
       "      <td>&lt; 1 year</td>\n",
       "      <td>OWN</td>\n",
       "      <td>Not Verified</td>\n",
       "      <td>Jun-07</td>\n",
       "      <td>Fully Paid</td>\n",
       "      <td>debt_consolidation</td>\n",
       "      <td>Consolidation Loan</td>\n",
       "      <td>027xx</td>\n",
       "      <td>MA</td>\n",
       "      <td>f</td>\n",
       "      <td>Jun-10</td>\n",
       "      <td>Jun-10</td>\n",
       "    </tr>\n",
       "  </tbody>\n",
       "</table>\n",
       "<p>38521 rows × 14 columns</p>\n",
       "</div>"
      ],
      "text/plain": [
       "      grade sub_grade emp_length home_ownership verification_status issue_d  \\\n",
       "0         B        B2  10+ years           RENT            Verified  Dec-11   \n",
       "1         C        C4   < 1 year           RENT     Source Verified  Dec-11   \n",
       "2         C        C5  10+ years           RENT        Not Verified  Dec-11   \n",
       "3         C        C1  10+ years           RENT     Source Verified  Dec-11   \n",
       "4         B        B5     1 year           RENT     Source Verified  Dec-11   \n",
       "...     ...       ...        ...            ...                 ...     ...   \n",
       "39712     A        A4    4 years       MORTGAGE        Not Verified  Jul-07   \n",
       "39713     C        C1    3 years           RENT        Not Verified  Jul-07   \n",
       "39714     A        A4   < 1 year       MORTGAGE        Not Verified  Jul-07   \n",
       "39715     A        A2   < 1 year       MORTGAGE        Not Verified  Jul-07   \n",
       "39716     E        E2   < 1 year            OWN        Not Verified  Jun-07   \n",
       "\n",
       "       loan_status             purpose                      title zip_code  \\\n",
       "0       Fully Paid         credit_card                   Computer    860xx   \n",
       "1      Charged Off                 car                       bike    309xx   \n",
       "2       Fully Paid      small_business       real estate business    606xx   \n",
       "3       Fully Paid               other                   personel    917xx   \n",
       "4          Current               other                   Personal    972xx   \n",
       "...            ...                 ...                        ...      ...   \n",
       "39712   Fully Paid    home_improvement           Home Improvement    802xx   \n",
       "39713   Fully Paid         credit_card  Retiring credit card debt    274xx   \n",
       "39714   Fully Paid  debt_consolidation     MBA Loan Consolidation    017xx   \n",
       "39715   Fully Paid               other                   JAL Loan    208xx   \n",
       "39716   Fully Paid  debt_consolidation         Consolidation Loan    027xx   \n",
       "\n",
       "      addr_state initial_list_status last_pymnt_d last_credit_pull_d  \n",
       "0             AZ                   f       Jan-15             May-16  \n",
       "1             GA                   f       Apr-13             Sep-13  \n",
       "2             IL                   f       Jun-14             May-16  \n",
       "3             CA                   f       Jan-15             Apr-16  \n",
       "4             OR                   f       May-16             May-16  \n",
       "...          ...                 ...          ...                ...  \n",
       "39712         CO                   f       Jul-10             Jun-10  \n",
       "39713         NC                   f       Jul-10             Jul-10  \n",
       "39714         MA                   f       Apr-08             Jun-07  \n",
       "39715         MD                   f       Jan-08             Jun-07  \n",
       "39716         MA                   f       Jun-10             Jun-10  \n",
       "\n",
       "[38521 rows x 14 columns]"
      ]
     },
     "execution_count": 32,
     "metadata": {},
     "output_type": "execute_result"
    }
   ],
   "source": [
    "loan.select_dtypes(include=['object'])"
   ]
  },
  {
   "cell_type": "code",
   "execution_count": 34,
   "id": "cc4985c3",
   "metadata": {},
   "outputs": [],
   "source": [
    "## Converting date types from object type\n",
    "\n",
    "loan[['issue_d','last_pymnt_d','last_credit_pull_d']] = loan[['issue_d','last_pymnt_d','last_credit_pull_d']].apply(lambda x:'01-'+x)\n",
    "\n",
    "loan[['issue_d','last_pymnt_d','last_credit_pull_d']] = loan[['issue_d','last_pymnt_d','last_credit_pull_d']].apply(lambda x: pd.to_datetime(x,infer_datetime_format=True,errors='coerce'))"
   ]
  },
  {
   "cell_type": "markdown",
   "id": "beac1eca",
   "metadata": {},
   "source": [
    "#### Issuing support columns"
   ]
  },
  {
   "cell_type": "code",
   "execution_count": 35,
   "id": "c6f1e825",
   "metadata": {},
   "outputs": [],
   "source": [
    "loan['issue_yr'] = pd.DatetimeIndex(loan['issue_d']).year"
   ]
  },
  {
   "cell_type": "code",
   "execution_count": 36,
   "id": "a17d04e2",
   "metadata": {},
   "outputs": [],
   "source": [
    "loan['issue_yr'] = loan['issue_yr'].apply(str)"
   ]
  },
  {
   "cell_type": "code",
   "execution_count": 37,
   "id": "95c8cd27",
   "metadata": {},
   "outputs": [],
   "source": [
    "def emp_length_facet(i):\n",
    "        if i == '10+ years':\n",
    "            return 'Managerial'\n",
    "        elif i in ['9 years','8 years','7 years'] :\n",
    "            return 'Senior'\n",
    "        elif i in ['4 years' , '3 years' ,'2 years' , '1 years']:\n",
    "            return 'Junior'\n",
    "        else:\n",
    "            return 'Entry'\n",
    "\n",
    "loan['emp_level'] = loan['emp_length'].apply(emp_length_facet)"
   ]
  },
  {
   "cell_type": "code",
   "execution_count": 38,
   "id": "62fd7b97",
   "metadata": {},
   "outputs": [
    {
     "data": {
      "text/plain": [
       "count    38521.000000\n",
       "mean        13.332196\n",
       "std          6.664551\n",
       "min          0.000000\n",
       "25%          8.210000\n",
       "50%         13.420000\n",
       "75%         18.600000\n",
       "max         29.990000\n",
       "Name: dti, dtype: float64"
      ]
     },
     "execution_count": 38,
     "metadata": {},
     "output_type": "execute_result"
    }
   ],
   "source": [
    "loan.dti.describe()"
   ]
  },
  {
   "cell_type": "code",
   "execution_count": 39,
   "id": "ca2f63a6",
   "metadata": {},
   "outputs": [],
   "source": [
    "def dti_range(x):\n",
    "    if x <= 8.00: ##Congruent with 25th Percentile\n",
    "        return 'low'\n",
    "    elif (x >8.00 and x <= 15.00): ## 25th to 75th percentile\n",
    "        return 'medium'\n",
    "    else:\n",
    "        return 'high'\n",
    "loan['dti_level'] = loan['dti'].apply(dti_range)"
   ]
  },
  {
   "cell_type": "markdown",
   "id": "3546f4d4",
   "metadata": {},
   "source": [
    "### Relevancy check on the target variable"
   ]
  },
  {
   "cell_type": "markdown",
   "id": "115f774f",
   "metadata": {},
   "source": [
    "#### We can drop the status = 'current' since that does not impact our analysis"
   ]
  },
  {
   "cell_type": "code",
   "execution_count": 40,
   "id": "e7304cc4",
   "metadata": {},
   "outputs": [],
   "source": [
    "loan = loan[loan['loan_status']!='Current']"
   ]
  },
  {
   "cell_type": "code",
   "execution_count": 41,
   "id": "f9ca0e12",
   "metadata": {},
   "outputs": [
    {
     "name": "stderr",
     "output_type": "stream",
     "text": [
      "/Users/absinha/opt/anaconda3/lib/python3.9/site-packages/seaborn/_decorators.py:36: FutureWarning: Pass the following variable as a keyword arg: x. From version 0.12, the only valid positional argument will be `data`, and passing other arguments without an explicit keyword will result in an error or misinterpretation.\n",
      "  warnings.warn(\n"
     ]
    },
    {
     "data": {
      "text/plain": [
       "<AxesSubplot:xlabel='loan_status', ylabel='count'>"
      ]
     },
     "execution_count": 41,
     "metadata": {},
     "output_type": "execute_result"
    },
    {
     "data": {
      "image/png": "[encoded data removed]",
      "text/plain": [
       "<Figure size 432x288 with 1 Axes>"
      ]
     },
     "metadata": {
      "needs_background": "light"
     },
     "output_type": "display_data"
    }
   ],
   "source": [
    "sns.countplot(loan['loan_status'])"
   ]
  },
  {
   "cell_type": "markdown",
   "id": "ce22f43e",
   "metadata": {},
   "source": [
    "## Univariate analysis (With and without segments)"
   ]
  },
  {
   "cell_type": "code",
   "execution_count": 42,
   "id": "fc05cdaa",
   "metadata": {},
   "outputs": [
    {
     "name": "stdout",
     "output_type": "stream",
     "text": [
      "<class 'pandas.core.frame.DataFrame'>\n",
      "Int64Index: 37423 entries, 0 to 39716\n",
      "Data columns (total 39 columns):\n",
      " #   Column                   Non-Null Count  Dtype         \n",
      "---  ------                   --------------  -----         \n",
      " 0   loan_amnt                37423 non-null  int64         \n",
      " 1   funded_amnt              37423 non-null  int64         \n",
      " 2   funded_amnt_inv          37423 non-null  float64       \n",
      " 3   term                     37423 non-null  int64         \n",
      " 4   int_rate                 37423 non-null  float64       \n",
      " 5   grade                    37423 non-null  object        \n",
      " 6   sub_grade                37423 non-null  object        \n",
      " 7   emp_length               37423 non-null  object        \n",
      " 8   home_ownership           37423 non-null  object        \n",
      " 9   annual_inc               37423 non-null  float64       \n",
      " 10  verification_status      37423 non-null  object        \n",
      " 11  issue_d                  37423 non-null  datetime64[ns]\n",
      " 12  loan_status              37423 non-null  object        \n",
      " 13  purpose                  37423 non-null  object        \n",
      " 14  title                    37423 non-null  object        \n",
      " 15  zip_code                 37423 non-null  object        \n",
      " 16  addr_state               37423 non-null  object        \n",
      " 17  dti                      37423 non-null  float64       \n",
      " 18  inq_last_6mths           37423 non-null  int64         \n",
      " 19  open_acc                 37423 non-null  int64         \n",
      " 20  pub_rec                  37423 non-null  int64         \n",
      " 21  revol_bal                37423 non-null  int64         \n",
      " 22  revol_util               37423 non-null  float64       \n",
      " 23  total_acc                37423 non-null  int64         \n",
      " 24  initial_list_status      37423 non-null  object        \n",
      " 25  out_prncp                37423 non-null  float64       \n",
      " 26  out_prncp_inv            37423 non-null  float64       \n",
      " 27  total_pymnt              37423 non-null  float64       \n",
      " 28  total_pymnt_inv          37423 non-null  float64       \n",
      " 29  total_rec_prncp          37423 non-null  float64       \n",
      " 30  total_rec_int            37423 non-null  float64       \n",
      " 31  recoveries               37423 non-null  float64       \n",
      " 32  collection_recovery_fee  37423 non-null  float64       \n",
      " 33  last_pymnt_d             37423 non-null  datetime64[ns]\n",
      " 34  last_pymnt_amnt          37423 non-null  float64       \n",
      " 35  last_credit_pull_d       37423 non-null  datetime64[ns]\n",
      " 36  issue_yr                 37423 non-null  object        \n",
      " 37  emp_level                37423 non-null  object        \n",
      " 38  dti_level                37423 non-null  object        \n",
      "dtypes: datetime64[ns](3), float64(14), int64(8), object(14)\n",
      "memory usage: 12.4+ MB\n"
     ]
    }
   ],
   "source": [
    "loan.info()"
   ]
  },
  {
   "cell_type": "code",
   "execution_count": 43,
   "id": "3bd42b7d",
   "metadata": {},
   "outputs": [
    {
     "data": {
      "text/plain": [
       "<seaborn.axisgrid.FacetGrid at 0x7f9d37298310>"
      ]
     },
     "execution_count": 43,
     "metadata": {},
     "output_type": "execute_result"
    },
    {
     "data": {
      "image/png": "[encoded data removed]",
      "text/plain": [
       "<Figure size 1800x360 with 1 Axes>"
      ]
     },
     "metadata": {
      "needs_background": "light"
     },
     "output_type": "display_data"
    }
   ],
   "source": [
    "sns.displot(x=loan['purpose'],aspect=5)"
   ]
  },
  {
   "cell_type": "markdown",
   "id": "e84d4c9a",
   "metadata": {},
   "source": [
    "`Most of the purpose encapsulates 'debt consolidation'`"
   ]
  },
  {
   "cell_type": "code",
   "execution_count": 44,
   "id": "c830be90",
   "metadata": {},
   "outputs": [
    {
     "data": {
      "text/plain": [
       "<seaborn.axisgrid.FacetGrid at 0x7f9d3728d340>"
      ]
     },
     "execution_count": 44,
     "metadata": {},
     "output_type": "execute_result"
    },
    {
     "data": {
      "image/png": "[encoded data removed]",
      "text/plain": [
       "<Figure size 1080x360 with 1 Axes>"
      ]
     },
     "metadata": {
      "needs_background": "light"
     },
     "output_type": "display_data"
    }
   ],
   "source": [
    "sns.displot(loan['emp_level'],aspect=3)"
   ]
  },
  {
   "cell_type": "markdown",
   "id": "1914ef1b",
   "metadata": {},
   "source": [
    "### Issue Year"
   ]
  },
  {
   "cell_type": "code",
   "execution_count": 45,
   "id": "9468798a",
   "metadata": {},
   "outputs": [
    {
     "data": {
      "text/plain": [
       "2011    52.799081\n",
       "2010    29.847954\n",
       "2009    12.532400\n",
       "2008     4.152527\n",
       "2007     0.668038\n",
       "Name: issue_yr, dtype: float64"
      ]
     },
     "execution_count": 45,
     "metadata": {},
     "output_type": "execute_result"
    }
   ],
   "source": [
    "loan['issue_yr'].value_counts()/len(loan)*100"
   ]
  },
  {
   "cell_type": "markdown",
   "id": "21712bcf",
   "metadata": {},
   "source": [
    "`53% of all loans were sanctioned just in 2011`"
   ]
  },
  {
   "cell_type": "code",
   "execution_count": 46,
   "id": "e6bb908b",
   "metadata": {},
   "outputs": [
    {
     "data": {
      "text/html": [
       "<div>\n",
       "<style scoped>\n",
       "    .dataframe tbody tr th:only-of-type {\n",
       "        vertical-align: middle;\n",
       "    }\n",
       "\n",
       "    .dataframe tbody tr th {\n",
       "        vertical-align: top;\n",
       "    }\n",
       "\n",
       "    .dataframe thead th {\n",
       "        text-align: right;\n",
       "    }\n",
       "</style>\n",
       "<table border=\"1\" class=\"dataframe\">\n",
       "  <thead>\n",
       "    <tr style=\"text-align: right;\">\n",
       "      <th></th>\n",
       "      <th>funded_amnt_inv</th>\n",
       "    </tr>\n",
       "    <tr>\n",
       "      <th>issue_yr</th>\n",
       "      <th></th>\n",
       "    </tr>\n",
       "  </thead>\n",
       "  <tbody>\n",
       "    <tr>\n",
       "      <th>2007</th>\n",
       "      <td>0.000795</td>\n",
       "    </tr>\n",
       "    <tr>\n",
       "      <th>2008</th>\n",
       "      <td>0.013034</td>\n",
       "    </tr>\n",
       "    <tr>\n",
       "      <th>2009</th>\n",
       "      <td>0.106195</td>\n",
       "    </tr>\n",
       "    <tr>\n",
       "      <th>2010</th>\n",
       "      <td>0.288505</td>\n",
       "    </tr>\n",
       "    <tr>\n",
       "      <th>2011</th>\n",
       "      <td>0.591471</td>\n",
       "    </tr>\n",
       "  </tbody>\n",
       "</table>\n",
       "</div>"
      ],
      "text/plain": [
       "          funded_amnt_inv\n",
       "issue_yr                 \n",
       "2007             0.000795\n",
       "2008             0.013034\n",
       "2009             0.106195\n",
       "2010             0.288505\n",
       "2011             0.591471"
      ]
     },
     "execution_count": 46,
     "metadata": {},
     "output_type": "execute_result"
    }
   ],
   "source": [
    "(loan[['issue_yr','funded_amnt_inv']].groupby(by='issue_yr').sum())/loan['funded_amnt_inv'].sum()"
   ]
  },
  {
   "cell_type": "markdown",
   "id": "b83878c9",
   "metadata": {},
   "source": [
    "`59% of total loan amount was sanctioned just in 2011`"
   ]
  },
  {
   "cell_type": "code",
   "execution_count": 47,
   "id": "77ae57d2",
   "metadata": {},
   "outputs": [
    {
     "data": {
      "text/html": [
       "<div>\n",
       "<style scoped>\n",
       "    .dataframe tbody tr th:only-of-type {\n",
       "        vertical-align: middle;\n",
       "    }\n",
       "\n",
       "    .dataframe tbody tr th {\n",
       "        vertical-align: top;\n",
       "    }\n",
       "\n",
       "    .dataframe thead th {\n",
       "        text-align: right;\n",
       "    }\n",
       "</style>\n",
       "<table border=\"1\" class=\"dataframe\">\n",
       "  <thead>\n",
       "    <tr style=\"text-align: right;\">\n",
       "      <th>loan_status</th>\n",
       "      <th>Charged Off</th>\n",
       "      <th>Fully Paid</th>\n",
       "    </tr>\n",
       "    <tr>\n",
       "      <th>emp_level</th>\n",
       "      <th></th>\n",
       "      <th></th>\n",
       "    </tr>\n",
       "  </thead>\n",
       "  <tbody>\n",
       "    <tr>\n",
       "      <th>Entry</th>\n",
       "      <td>14.035899</td>\n",
       "      <td>85.964101</td>\n",
       "    </tr>\n",
       "    <tr>\n",
       "      <th>Junior</th>\n",
       "      <td>13.448781</td>\n",
       "      <td>86.551219</td>\n",
       "    </tr>\n",
       "    <tr>\n",
       "      <th>Managerial</th>\n",
       "      <td>15.583343</td>\n",
       "      <td>84.416657</td>\n",
       "    </tr>\n",
       "    <tr>\n",
       "      <th>Senior</th>\n",
       "      <td>14.134924</td>\n",
       "      <td>85.865076</td>\n",
       "    </tr>\n",
       "  </tbody>\n",
       "</table>\n",
       "</div>"
      ],
      "text/plain": [
       "loan_status  Charged Off  Fully Paid\n",
       "emp_level                           \n",
       "Entry          14.035899   85.964101\n",
       "Junior         13.448781   86.551219\n",
       "Managerial     15.583343   84.416657\n",
       "Senior         14.134924   85.865076"
      ]
     },
     "execution_count": 47,
     "metadata": {},
     "output_type": "execute_result"
    }
   ],
   "source": [
    "loan_emp_pivot = loan[['emp_level','loan_status']].pivot_table(index='emp_level',columns='loan_status',aggfunc=len)\n",
    "loan_emp_pivot.apply(lambda x:100*x/float(x.sum()),axis=1)"
   ]
  },
  {
   "cell_type": "markdown",
   "id": "648da8fe",
   "metadata": {},
   "source": [
    "`No significant impact comes from the employee level`"
   ]
  },
  {
   "cell_type": "markdown",
   "id": "0dacb106",
   "metadata": {},
   "source": [
    "### Purpose v/s Loan Status"
   ]
  },
  {
   "cell_type": "code",
   "execution_count": 48,
   "id": "f794d40b",
   "metadata": {},
   "outputs": [
    {
     "data": {
      "text/html": [
       "<div>\n",
       "<style scoped>\n",
       "    .dataframe tbody tr th:only-of-type {\n",
       "        vertical-align: middle;\n",
       "    }\n",
       "\n",
       "    .dataframe tbody tr th {\n",
       "        vertical-align: top;\n",
       "    }\n",
       "\n",
       "    .dataframe thead th {\n",
       "        text-align: right;\n",
       "    }\n",
       "</style>\n",
       "<table border=\"1\" class=\"dataframe\">\n",
       "  <thead>\n",
       "    <tr style=\"text-align: right;\">\n",
       "      <th>loan_status</th>\n",
       "      <th>Charged Off</th>\n",
       "      <th>Fully Paid</th>\n",
       "    </tr>\n",
       "    <tr>\n",
       "      <th>purpose</th>\n",
       "      <th></th>\n",
       "      <th></th>\n",
       "    </tr>\n",
       "  </thead>\n",
       "  <tbody>\n",
       "    <tr>\n",
       "      <th>small_business</th>\n",
       "      <td>26.705882</td>\n",
       "      <td>73.294118</td>\n",
       "    </tr>\n",
       "    <tr>\n",
       "      <th>renewable_energy</th>\n",
       "      <td>18.279570</td>\n",
       "      <td>81.720430</td>\n",
       "    </tr>\n",
       "    <tr>\n",
       "      <th>house</th>\n",
       "      <td>16.193182</td>\n",
       "      <td>83.806818</td>\n",
       "    </tr>\n",
       "    <tr>\n",
       "      <th>educational</th>\n",
       "      <td>16.129032</td>\n",
       "      <td>83.870968</td>\n",
       "    </tr>\n",
       "    <tr>\n",
       "      <th>other</th>\n",
       "      <td>15.853659</td>\n",
       "      <td>84.146341</td>\n",
       "    </tr>\n",
       "    <tr>\n",
       "      <th>medical</th>\n",
       "      <td>15.290520</td>\n",
       "      <td>84.709480</td>\n",
       "    </tr>\n",
       "    <tr>\n",
       "      <th>moving</th>\n",
       "      <td>15.272727</td>\n",
       "      <td>84.727273</td>\n",
       "    </tr>\n",
       "    <tr>\n",
       "      <th>debt_consolidation</th>\n",
       "      <td>15.005104</td>\n",
       "      <td>84.994896</td>\n",
       "    </tr>\n",
       "    <tr>\n",
       "      <th>vacation</th>\n",
       "      <td>14.409222</td>\n",
       "      <td>85.590778</td>\n",
       "    </tr>\n",
       "    <tr>\n",
       "      <th>home_improvement</th>\n",
       "      <td>11.694854</td>\n",
       "      <td>88.305146</td>\n",
       "    </tr>\n",
       "    <tr>\n",
       "      <th>car</th>\n",
       "      <td>10.650069</td>\n",
       "      <td>89.349931</td>\n",
       "    </tr>\n",
       "    <tr>\n",
       "      <th>credit_card</th>\n",
       "      <td>10.359624</td>\n",
       "      <td>89.640376</td>\n",
       "    </tr>\n",
       "    <tr>\n",
       "      <th>major_purchase</th>\n",
       "      <td>9.912959</td>\n",
       "      <td>90.087041</td>\n",
       "    </tr>\n",
       "    <tr>\n",
       "      <th>wedding</th>\n",
       "      <td>9.492274</td>\n",
       "      <td>90.507726</td>\n",
       "    </tr>\n",
       "  </tbody>\n",
       "</table>\n",
       "</div>"
      ],
      "text/plain": [
       "loan_status         Charged Off  Fully Paid\n",
       "purpose                                    \n",
       "small_business        26.705882   73.294118\n",
       "renewable_energy      18.279570   81.720430\n",
       "house                 16.193182   83.806818\n",
       "educational           16.129032   83.870968\n",
       "other                 15.853659   84.146341\n",
       "medical               15.290520   84.709480\n",
       "moving                15.272727   84.727273\n",
       "debt_consolidation    15.005104   84.994896\n",
       "vacation              14.409222   85.590778\n",
       "home_improvement      11.694854   88.305146\n",
       "car                   10.650069   89.349931\n",
       "credit_card           10.359624   89.640376\n",
       "major_purchase         9.912959   90.087041\n",
       "wedding                9.492274   90.507726"
      ]
     },
     "execution_count": 48,
     "metadata": {},
     "output_type": "execute_result"
    }
   ],
   "source": [
    "loan_purpose_pivot = loan[['purpose','loan_status']].pivot_table(index='purpose',columns='loan_status',aggfunc=len)\n",
    "loan_purpose_pivot.apply(lambda x:100*x/float(x.sum()),axis=1).sort_values(by='Charged Off',ascending=False)"
   ]
  },
  {
   "cell_type": "markdown",
   "id": "f1b965e9",
   "metadata": {},
   "source": [
    "> `Small Businesses are more likely to default on loans, lets dive deeper on this looking at yearly trends`"
   ]
  },
  {
   "cell_type": "code",
   "execution_count": 49,
   "id": "2e351255",
   "metadata": {},
   "outputs": [],
   "source": [
    "loan_purpose_pivot = loan[['purpose','loan_status','issue_yr']].pivot_table(index=['issue_yr','purpose'],columns='loan_status',aggfunc=len)\n",
    "loan_purpose_pivot = loan_purpose_pivot.apply(lambda x:100*x/float(x.sum()),axis=1).sort_values(by='Charged Off',ascending=False)"
   ]
  },
  {
   "cell_type": "code",
   "execution_count": 50,
   "id": "004fb6ad",
   "metadata": {},
   "outputs": [],
   "source": [
    "loan_purpose_pivot.fillna(value=0,inplace=True)"
   ]
  },
  {
   "cell_type": "code",
   "execution_count": 51,
   "id": "55efa9cd",
   "metadata": {},
   "outputs": [],
   "source": [
    "loan_purpose_pivot.reset_index(drop=False,inplace=True)"
   ]
  },
  {
   "cell_type": "code",
   "execution_count": 52,
   "id": "891e05e4",
   "metadata": {},
   "outputs": [
    {
     "data": {
      "text/html": [
       "<div>\n",
       "<style scoped>\n",
       "    .dataframe tbody tr th:only-of-type {\n",
       "        vertical-align: middle;\n",
       "    }\n",
       "\n",
       "    .dataframe tbody tr th {\n",
       "        vertical-align: top;\n",
       "    }\n",
       "\n",
       "    .dataframe thead th {\n",
       "        text-align: right;\n",
       "    }\n",
       "</style>\n",
       "<table border=\"1\" class=\"dataframe\">\n",
       "  <thead>\n",
       "    <tr style=\"text-align: right;\">\n",
       "      <th>loan_status</th>\n",
       "      <th>issue_yr</th>\n",
       "      <th>purpose</th>\n",
       "      <th>Charged Off</th>\n",
       "      <th>Fully Paid</th>\n",
       "    </tr>\n",
       "  </thead>\n",
       "  <tbody>\n",
       "    <tr>\n",
       "      <th>0</th>\n",
       "      <td>2007</td>\n",
       "      <td>moving</td>\n",
       "      <td>50.000000</td>\n",
       "      <td>50.000000</td>\n",
       "    </tr>\n",
       "    <tr>\n",
       "      <th>1</th>\n",
       "      <td>2007</td>\n",
       "      <td>small_business</td>\n",
       "      <td>38.461538</td>\n",
       "      <td>61.538462</td>\n",
       "    </tr>\n",
       "    <tr>\n",
       "      <th>2</th>\n",
       "      <td>2011</td>\n",
       "      <td>small_business</td>\n",
       "      <td>29.200463</td>\n",
       "      <td>70.799537</td>\n",
       "    </tr>\n",
       "    <tr>\n",
       "      <th>3</th>\n",
       "      <td>2008</td>\n",
       "      <td>small_business</td>\n",
       "      <td>27.472527</td>\n",
       "      <td>72.527473</td>\n",
       "    </tr>\n",
       "    <tr>\n",
       "      <th>4</th>\n",
       "      <td>2007</td>\n",
       "      <td>wedding</td>\n",
       "      <td>25.000000</td>\n",
       "      <td>75.000000</td>\n",
       "    </tr>\n",
       "    <tr>\n",
       "      <th>...</th>\n",
       "      <td>...</td>\n",
       "      <td>...</td>\n",
       "      <td>...</td>\n",
       "      <td>...</td>\n",
       "    </tr>\n",
       "    <tr>\n",
       "      <th>63</th>\n",
       "      <td>2007</td>\n",
       "      <td>vacation</td>\n",
       "      <td>0.000000</td>\n",
       "      <td>100.000000</td>\n",
       "    </tr>\n",
       "    <tr>\n",
       "      <th>64</th>\n",
       "      <td>2008</td>\n",
       "      <td>moving</td>\n",
       "      <td>0.000000</td>\n",
       "      <td>100.000000</td>\n",
       "    </tr>\n",
       "    <tr>\n",
       "      <th>65</th>\n",
       "      <td>2008</td>\n",
       "      <td>renewable_energy</td>\n",
       "      <td>0.000000</td>\n",
       "      <td>100.000000</td>\n",
       "    </tr>\n",
       "    <tr>\n",
       "      <th>66</th>\n",
       "      <td>2008</td>\n",
       "      <td>vacation</td>\n",
       "      <td>0.000000</td>\n",
       "      <td>100.000000</td>\n",
       "    </tr>\n",
       "    <tr>\n",
       "      <th>67</th>\n",
       "      <td>2009</td>\n",
       "      <td>renewable_energy</td>\n",
       "      <td>0.000000</td>\n",
       "      <td>100.000000</td>\n",
       "    </tr>\n",
       "  </tbody>\n",
       "</table>\n",
       "<p>68 rows × 4 columns</p>\n",
       "</div>"
      ],
      "text/plain": [
       "loan_status issue_yr           purpose  Charged Off  Fully Paid\n",
       "0               2007            moving    50.000000   50.000000\n",
       "1               2007    small_business    38.461538   61.538462\n",
       "2               2011    small_business    29.200463   70.799537\n",
       "3               2008    small_business    27.472527   72.527473\n",
       "4               2007           wedding    25.000000   75.000000\n",
       "..               ...               ...          ...         ...\n",
       "63              2007          vacation     0.000000  100.000000\n",
       "64              2008            moving     0.000000  100.000000\n",
       "65              2008  renewable_energy     0.000000  100.000000\n",
       "66              2008          vacation     0.000000  100.000000\n",
       "67              2009  renewable_energy     0.000000  100.000000\n",
       "\n",
       "[68 rows x 4 columns]"
      ]
     },
     "execution_count": 52,
     "metadata": {},
     "output_type": "execute_result"
    }
   ],
   "source": [
    "loan_purpose_pivot"
   ]
  },
  {
   "cell_type": "code",
   "execution_count": 53,
   "id": "4f543027",
   "metadata": {},
   "outputs": [],
   "source": [
    "loan_purpose_pivot = loan_purpose_pivot[loan_purpose_pivot['purpose']=='small_business']"
   ]
  },
  {
   "cell_type": "code",
   "execution_count": 54,
   "id": "ea66d73e",
   "metadata": {},
   "outputs": [],
   "source": [
    "# Select only the columns we need\n",
    "loan_purpose_pivot = loan_purpose_pivot[['issue_yr', 'Charged Off', 'Fully Paid']]\n",
    "\n",
    "# Convert the data to long format\n",
    "loan_purpose_pivot = pd.melt(loan_purpose_pivot, id_vars='issue_yr', var_name='status', value_name='percent')"
   ]
  },
  {
   "cell_type": "code",
   "execution_count": 55,
   "id": "3a1011d0",
   "metadata": {},
   "outputs": [],
   "source": [
    "loan_purpose_pivot.sort_values(by = 'issue_yr',inplace=True)"
   ]
  },
  {
   "cell_type": "code",
   "execution_count": 56,
   "id": "0853fa68",
   "metadata": {},
   "outputs": [
    {
     "data": {
      "image/png": "[encoded data removed]",
      "text/plain": [
       "<Figure size 720x432 with 1 Axes>"
      ]
     },
     "metadata": {
      "needs_background": "light"
     },
     "output_type": "display_data"
    }
   ],
   "source": [
    "plt.figure(figsize=(10,6))\n",
    "sns.barplot(x='issue_yr', y='percent', hue='status', data=loan_purpose_pivot ,palette='viridis')\n",
    "plt.legend()\n",
    "plt.ylabel('Percent')\n",
    "plt.xlabel('Issue Year')\n",
    "plt.title('Loans issued against small businesses')\n",
    "plt.show()"
   ]
  },
  {
   "cell_type": "markdown",
   "id": "ffb2e657",
   "metadata": {},
   "source": [
    "### Home Ownership v/s Loan Status"
   ]
  },
  {
   "cell_type": "code",
   "execution_count": 57,
   "id": "e995e8f8",
   "metadata": {},
   "outputs": [
    {
     "data": {
      "text/html": [
       "<div>\n",
       "<style scoped>\n",
       "    .dataframe tbody tr th:only-of-type {\n",
       "        vertical-align: middle;\n",
       "    }\n",
       "\n",
       "    .dataframe tbody tr th {\n",
       "        vertical-align: top;\n",
       "    }\n",
       "\n",
       "    .dataframe thead th {\n",
       "        text-align: right;\n",
       "    }\n",
       "</style>\n",
       "<table border=\"1\" class=\"dataframe\">\n",
       "  <thead>\n",
       "    <tr style=\"text-align: right;\">\n",
       "      <th></th>\n",
       "      <th>loan_status</th>\n",
       "      <th>Charged Off</th>\n",
       "      <th>Fully Paid</th>\n",
       "    </tr>\n",
       "    <tr>\n",
       "      <th>issue_yr</th>\n",
       "      <th>home_ownership</th>\n",
       "      <th></th>\n",
       "      <th></th>\n",
       "    </tr>\n",
       "  </thead>\n",
       "  <tbody>\n",
       "    <tr>\n",
       "      <th rowspan=\"4\" valign=\"top\">2011</th>\n",
       "      <th>RENT</th>\n",
       "      <td>16.493056</td>\n",
       "      <td>83.506944</td>\n",
       "    </tr>\n",
       "    <tr>\n",
       "      <th>OWN</th>\n",
       "      <td>16.223977</td>\n",
       "      <td>83.776023</td>\n",
       "    </tr>\n",
       "    <tr>\n",
       "      <th>OTHER</th>\n",
       "      <td>100.000000</td>\n",
       "      <td>NaN</td>\n",
       "    </tr>\n",
       "    <tr>\n",
       "      <th>MORTGAGE</th>\n",
       "      <td>14.395016</td>\n",
       "      <td>85.604984</td>\n",
       "    </tr>\n",
       "    <tr>\n",
       "      <th rowspan=\"4\" valign=\"top\">2010</th>\n",
       "      <th>RENT</th>\n",
       "      <td>12.984604</td>\n",
       "      <td>87.015396</td>\n",
       "    </tr>\n",
       "    <tr>\n",
       "      <th>OWN</th>\n",
       "      <td>13.308913</td>\n",
       "      <td>86.691087</td>\n",
       "    </tr>\n",
       "    <tr>\n",
       "      <th>OTHER</th>\n",
       "      <td>100.000000</td>\n",
       "      <td>NaN</td>\n",
       "    </tr>\n",
       "    <tr>\n",
       "      <th>MORTGAGE</th>\n",
       "      <td>11.637757</td>\n",
       "      <td>88.362243</td>\n",
       "    </tr>\n",
       "    <tr>\n",
       "      <th rowspan=\"4\" valign=\"top\">2009</th>\n",
       "      <th>OWN</th>\n",
       "      <td>10.096154</td>\n",
       "      <td>89.903846</td>\n",
       "    </tr>\n",
       "    <tr>\n",
       "      <th>RENT</th>\n",
       "      <td>13.075658</td>\n",
       "      <td>86.924342</td>\n",
       "    </tr>\n",
       "    <tr>\n",
       "      <th>OTHER</th>\n",
       "      <td>19.117647</td>\n",
       "      <td>80.882353</td>\n",
       "    </tr>\n",
       "    <tr>\n",
       "      <th>MORTGAGE</th>\n",
       "      <td>11.668546</td>\n",
       "      <td>88.331454</td>\n",
       "    </tr>\n",
       "    <tr>\n",
       "      <th rowspan=\"5\" valign=\"top\">2008</th>\n",
       "      <th>RENT</th>\n",
       "      <td>14.510278</td>\n",
       "      <td>85.489722</td>\n",
       "    </tr>\n",
       "    <tr>\n",
       "      <th>OWN</th>\n",
       "      <td>12.844037</td>\n",
       "      <td>87.155963</td>\n",
       "    </tr>\n",
       "    <tr>\n",
       "      <th>OTHER</th>\n",
       "      <td>8.000000</td>\n",
       "      <td>92.000000</td>\n",
       "    </tr>\n",
       "    <tr>\n",
       "      <th>NONE</th>\n",
       "      <td>NaN</td>\n",
       "      <td>100.000000</td>\n",
       "    </tr>\n",
       "    <tr>\n",
       "      <th>MORTGAGE</th>\n",
       "      <td>18.074324</td>\n",
       "      <td>81.925676</td>\n",
       "    </tr>\n",
       "    <tr>\n",
       "      <th rowspan=\"4\" valign=\"top\">2007</th>\n",
       "      <th>NONE</th>\n",
       "      <td>NaN</td>\n",
       "      <td>100.000000</td>\n",
       "    </tr>\n",
       "    <tr>\n",
       "      <th>RENT</th>\n",
       "      <td>15.384615</td>\n",
       "      <td>84.615385</td>\n",
       "    </tr>\n",
       "    <tr>\n",
       "      <th>OWN</th>\n",
       "      <td>18.181818</td>\n",
       "      <td>81.818182</td>\n",
       "    </tr>\n",
       "    <tr>\n",
       "      <th>MORTGAGE</th>\n",
       "      <td>21.875000</td>\n",
       "      <td>78.125000</td>\n",
       "    </tr>\n",
       "  </tbody>\n",
       "</table>\n",
       "</div>"
      ],
      "text/plain": [
       "loan_status              Charged Off  Fully Paid\n",
       "issue_yr home_ownership                         \n",
       "2011     RENT              16.493056   83.506944\n",
       "         OWN               16.223977   83.776023\n",
       "         OTHER            100.000000         NaN\n",
       "         MORTGAGE          14.395016   85.604984\n",
       "2010     RENT              12.984604   87.015396\n",
       "         OWN               13.308913   86.691087\n",
       "         OTHER            100.000000         NaN\n",
       "         MORTGAGE          11.637757   88.362243\n",
       "2009     OWN               10.096154   89.903846\n",
       "         RENT              13.075658   86.924342\n",
       "         OTHER             19.117647   80.882353\n",
       "         MORTGAGE          11.668546   88.331454\n",
       "2008     RENT              14.510278   85.489722\n",
       "         OWN               12.844037   87.155963\n",
       "         OTHER              8.000000   92.000000\n",
       "         NONE                    NaN  100.000000\n",
       "         MORTGAGE          18.074324   81.925676\n",
       "2007     NONE                    NaN  100.000000\n",
       "         RENT              15.384615   84.615385\n",
       "         OWN               18.181818   81.818182\n",
       "         MORTGAGE          21.875000   78.125000"
      ]
     },
     "execution_count": 57,
     "metadata": {},
     "output_type": "execute_result"
    }
   ],
   "source": [
    "loan_ho_pivot = loan[['home_ownership','loan_status','issue_yr']].pivot_table(index=['issue_yr','home_ownership'],columns='loan_status',aggfunc=len)\n",
    "loan_ho_pivot.apply(lambda x:100*x/float(x.sum()),axis=1).sort_values(by=['issue_yr'],ascending=False)"
   ]
  },
  {
   "cell_type": "markdown",
   "id": "b6f52e11",
   "metadata": {},
   "source": [
    "`No significant impact of house ownership`"
   ]
  },
  {
   "cell_type": "markdown",
   "id": "1f9e41f4",
   "metadata": {},
   "source": [
    "### Grades v/s Loan Status"
   ]
  },
  {
   "cell_type": "code",
   "execution_count": 58,
   "id": "3c11a51b",
   "metadata": {},
   "outputs": [
    {
     "data": {
      "text/html": [
       "<div>\n",
       "<style scoped>\n",
       "    .dataframe tbody tr th:only-of-type {\n",
       "        vertical-align: middle;\n",
       "    }\n",
       "\n",
       "    .dataframe tbody tr th {\n",
       "        vertical-align: top;\n",
       "    }\n",
       "\n",
       "    .dataframe thead th {\n",
       "        text-align: right;\n",
       "    }\n",
       "</style>\n",
       "<table border=\"1\" class=\"dataframe\">\n",
       "  <thead>\n",
       "    <tr style=\"text-align: right;\">\n",
       "      <th>loan_status</th>\n",
       "      <th>Charged Off</th>\n",
       "      <th>Fully Paid</th>\n",
       "    </tr>\n",
       "    <tr>\n",
       "      <th>grade</th>\n",
       "      <th></th>\n",
       "      <th></th>\n",
       "    </tr>\n",
       "  </thead>\n",
       "  <tbody>\n",
       "    <tr>\n",
       "      <th>A</th>\n",
       "      <td>5.719022</td>\n",
       "      <td>94.280978</td>\n",
       "    </tr>\n",
       "    <tr>\n",
       "      <th>B</th>\n",
       "      <td>11.832128</td>\n",
       "      <td>88.167872</td>\n",
       "    </tr>\n",
       "    <tr>\n",
       "      <th>C</th>\n",
       "      <td>16.544407</td>\n",
       "      <td>83.455593</td>\n",
       "    </tr>\n",
       "    <tr>\n",
       "      <th>D</th>\n",
       "      <td>21.609056</td>\n",
       "      <td>78.390944</td>\n",
       "    </tr>\n",
       "    <tr>\n",
       "      <th>E</th>\n",
       "      <td>26.451365</td>\n",
       "      <td>73.548635</td>\n",
       "    </tr>\n",
       "    <tr>\n",
       "      <th>F</th>\n",
       "      <td>32.528856</td>\n",
       "      <td>67.471144</td>\n",
       "    </tr>\n",
       "    <tr>\n",
       "      <th>G</th>\n",
       "      <td>32.653061</td>\n",
       "      <td>67.346939</td>\n",
       "    </tr>\n",
       "  </tbody>\n",
       "</table>\n",
       "</div>"
      ],
      "text/plain": [
       "loan_status  Charged Off  Fully Paid\n",
       "grade                               \n",
       "A               5.719022   94.280978\n",
       "B              11.832128   88.167872\n",
       "C              16.544407   83.455593\n",
       "D              21.609056   78.390944\n",
       "E              26.451365   73.548635\n",
       "F              32.528856   67.471144\n",
       "G              32.653061   67.346939"
      ]
     },
     "execution_count": 58,
     "metadata": {},
     "output_type": "execute_result"
    }
   ],
   "source": [
    "loan_sg_pivot = loan[['grade','loan_status']].pivot_table(index=['grade'],columns='loan_status',aggfunc=len)\n",
    "loan_sg_pivot.apply(lambda x:100*x/float(x.sum()),axis=1).sort_values(by='Charged Off',ascending=True)"
   ]
  },
  {
   "cell_type": "markdown",
   "id": "d78af43c",
   "metadata": {},
   "source": [
    "`Strong correlationship between grades and loan_status - Higher the grade, more likely they're to pay`"
   ]
  },
  {
   "cell_type": "markdown",
   "id": "131fa338",
   "metadata": {},
   "source": [
    "> Investigating further looking up loan distribution on Sub-Grades"
   ]
  },
  {
   "cell_type": "code",
   "execution_count": 59,
   "id": "4875aff7",
   "metadata": {},
   "outputs": [
    {
     "data": {
      "text/plain": [
       "B    0.303076\n",
       "A    0.257916\n",
       "C    0.203992\n",
       "D    0.132191\n",
       "E    0.069503\n",
       "F    0.025466\n",
       "G    0.007856\n",
       "Name: grade, dtype: float64"
      ]
     },
     "execution_count": 59,
     "metadata": {},
     "output_type": "execute_result"
    }
   ],
   "source": [
    "loan.grade.value_counts(normalize=True)"
   ]
  },
  {
   "cell_type": "markdown",
   "id": "0e811e82",
   "metadata": {},
   "source": [
    "`75% of all loans lie between grade A - C`"
   ]
  },
  {
   "cell_type": "code",
   "execution_count": 60,
   "id": "93a90535",
   "metadata": {},
   "outputs": [
    {
     "data": {
      "text/html": [
       "<div>\n",
       "<style scoped>\n",
       "    .dataframe tbody tr th:only-of-type {\n",
       "        vertical-align: middle;\n",
       "    }\n",
       "\n",
       "    .dataframe tbody tr th {\n",
       "        vertical-align: top;\n",
       "    }\n",
       "\n",
       "    .dataframe thead th {\n",
       "        text-align: right;\n",
       "    }\n",
       "</style>\n",
       "<table border=\"1\" class=\"dataframe\">\n",
       "  <thead>\n",
       "    <tr style=\"text-align: right;\">\n",
       "      <th>loan_status</th>\n",
       "      <th>Charged Off</th>\n",
       "      <th>Fully Paid</th>\n",
       "    </tr>\n",
       "    <tr>\n",
       "      <th>verification_status</th>\n",
       "      <th></th>\n",
       "      <th></th>\n",
       "    </tr>\n",
       "  </thead>\n",
       "  <tbody>\n",
       "    <tr>\n",
       "      <th>Not Verified</th>\n",
       "      <td>12.392055</td>\n",
       "      <td>87.607945</td>\n",
       "    </tr>\n",
       "    <tr>\n",
       "      <th>Source Verified</th>\n",
       "      <td>14.578491</td>\n",
       "      <td>85.421509</td>\n",
       "    </tr>\n",
       "    <tr>\n",
       "      <th>Verified</th>\n",
       "      <td>16.441039</td>\n",
       "      <td>83.558961</td>\n",
       "    </tr>\n",
       "  </tbody>\n",
       "</table>\n",
       "</div>"
      ],
      "text/plain": [
       "loan_status          Charged Off  Fully Paid\n",
       "verification_status                         \n",
       "Not Verified           12.392055   87.607945\n",
       "Source Verified        14.578491   85.421509\n",
       "Verified               16.441039   83.558961"
      ]
     },
     "execution_count": 60,
     "metadata": {},
     "output_type": "execute_result"
    }
   ],
   "source": [
    "loan_vs_pivot = loan[['verification_status','loan_status']].pivot_table(index=['verification_status'],columns='loan_status',aggfunc=len)\n",
    "loan_vs_pivot.apply(lambda x:100*x/float(x.sum()),axis=1).sort_values(by='Charged Off',ascending=True)"
   ]
  },
  {
   "cell_type": "code",
   "execution_count": 61,
   "id": "9ed8b943",
   "metadata": {},
   "outputs": [
    {
     "data": {
      "text/html": [
       "<div>\n",
       "<style scoped>\n",
       "    .dataframe tbody tr th:only-of-type {\n",
       "        vertical-align: middle;\n",
       "    }\n",
       "\n",
       "    .dataframe tbody tr th {\n",
       "        vertical-align: top;\n",
       "    }\n",
       "\n",
       "    .dataframe thead th {\n",
       "        text-align: right;\n",
       "    }\n",
       "</style>\n",
       "<table border=\"1\" class=\"dataframe\">\n",
       "  <thead>\n",
       "    <tr style=\"text-align: right;\">\n",
       "      <th></th>\n",
       "      <th>funded_amnt_inv</th>\n",
       "    </tr>\n",
       "    <tr>\n",
       "      <th>verification_status</th>\n",
       "      <th></th>\n",
       "    </tr>\n",
       "  </thead>\n",
       "  <tbody>\n",
       "    <tr>\n",
       "      <th>Not Verified</th>\n",
       "      <td>0.319453</td>\n",
       "    </tr>\n",
       "    <tr>\n",
       "      <th>Source Verified</th>\n",
       "      <td>0.234964</td>\n",
       "    </tr>\n",
       "    <tr>\n",
       "      <th>Verified</th>\n",
       "      <td>0.445583</td>\n",
       "    </tr>\n",
       "  </tbody>\n",
       "</table>\n",
       "</div>"
      ],
      "text/plain": [
       "                     funded_amnt_inv\n",
       "verification_status                 \n",
       "Not Verified                0.319453\n",
       "Source Verified             0.234964\n",
       "Verified                    0.445583"
      ]
     },
     "execution_count": 61,
     "metadata": {},
     "output_type": "execute_result"
    }
   ],
   "source": [
    "loan[['funded_amnt_inv','verification_status']].groupby(by='verification_status').sum()/loan['funded_amnt_inv'].sum()"
   ]
  },
  {
   "cell_type": "markdown",
   "id": "949d2e30",
   "metadata": {},
   "source": [
    "`31% of loans sanctioned to unverified, which is an operational gap`"
   ]
  },
  {
   "cell_type": "markdown",
   "id": "36c91734",
   "metadata": {},
   "source": [
    "### Open Accounts v/s Loan Status"
   ]
  },
  {
   "cell_type": "code",
   "execution_count": 62,
   "id": "739b9413",
   "metadata": {},
   "outputs": [
    {
     "data": {
      "image/png": "[encoded data removed]",
      "text/plain": [
       "<Figure size 1440x720 with 1 Axes>"
      ]
     },
     "metadata": {
      "needs_background": "light"
     },
     "output_type": "display_data"
    }
   ],
   "source": [
    "fig, ax = plt.subplots()\n",
    "fig.set_size_inches(20, 10)\n",
    "sns.histplot(loan[loan['loan_status']=='Charged Off']['open_acc'],ax=ax,color='red',kde=True,bins=15)\n",
    "sns.histplot(loan[loan['loan_status']=='Fully Paid']['open_acc'],ax=ax,color='green',kde=True,bins=15)\n",
    "plt.show()"
   ]
  },
  {
   "cell_type": "markdown",
   "id": "4729e7cf",
   "metadata": {},
   "source": [
    "`both loan status peak at the same number of open accounts hence no conclusive relationship`"
   ]
  },
  {
   "cell_type": "markdown",
   "id": "ac67c987",
   "metadata": {},
   "source": [
    "### Interest Rates v/s Loan Status"
   ]
  },
  {
   "cell_type": "code",
   "execution_count": 63,
   "id": "126d4317",
   "metadata": {},
   "outputs": [
    {
     "data": {
      "image/png": "[encoded data removed]",
      "text/plain": [
       "<Figure size 1440x720 with 1 Axes>"
      ]
     },
     "metadata": {
      "needs_background": "light"
     },
     "output_type": "display_data"
    }
   ],
   "source": [
    "fig, ax = plt.subplots()\n",
    "fig.set_size_inches(20, 10)\n",
    "sns.histplot(loan[loan['loan_status']=='Charged Off']['int_rate'],ax=ax,color='red',kde=True,bins=15)\n",
    "sns.histplot(loan[loan['loan_status']=='Fully Paid']['int_rate'],ax=ax,color='green',kde=True,bins=15)\n",
    "plt.show()"
   ]
  },
  {
   "cell_type": "markdown",
   "id": "aef01bef",
   "metadata": {},
   "source": [
    "### DTI Levels v/s Loan Status"
   ]
  },
  {
   "cell_type": "code",
   "execution_count": 64,
   "id": "49172aa9",
   "metadata": {},
   "outputs": [
    {
     "data": {
      "text/plain": [
       "high      0.415653\n",
       "medium    0.341555\n",
       "low       0.242792\n",
       "Name: dti_level, dtype: float64"
      ]
     },
     "execution_count": 64,
     "metadata": {},
     "output_type": "execute_result"
    }
   ],
   "source": [
    "loan.dti_level.value_counts(normalize=True)"
   ]
  },
  {
   "cell_type": "code",
   "execution_count": 65,
   "id": "a686b329",
   "metadata": {},
   "outputs": [
    {
     "data": {
      "text/html": [
       "<div>\n",
       "<style scoped>\n",
       "    .dataframe tbody tr th:only-of-type {\n",
       "        vertical-align: middle;\n",
       "    }\n",
       "\n",
       "    .dataframe tbody tr th {\n",
       "        vertical-align: top;\n",
       "    }\n",
       "\n",
       "    .dataframe thead th {\n",
       "        text-align: right;\n",
       "    }\n",
       "</style>\n",
       "<table border=\"1\" class=\"dataframe\">\n",
       "  <thead>\n",
       "    <tr style=\"text-align: right;\">\n",
       "      <th>loan_status</th>\n",
       "      <th>Charged Off</th>\n",
       "      <th>Fully Paid</th>\n",
       "    </tr>\n",
       "    <tr>\n",
       "      <th>dti_level</th>\n",
       "      <th></th>\n",
       "      <th></th>\n",
       "    </tr>\n",
       "  </thead>\n",
       "  <tbody>\n",
       "    <tr>\n",
       "      <th>low</th>\n",
       "      <td>11.930442</td>\n",
       "      <td>88.069558</td>\n",
       "    </tr>\n",
       "    <tr>\n",
       "      <th>medium</th>\n",
       "      <td>13.933657</td>\n",
       "      <td>86.066343</td>\n",
       "    </tr>\n",
       "    <tr>\n",
       "      <th>high</th>\n",
       "      <td>15.782707</td>\n",
       "      <td>84.217293</td>\n",
       "    </tr>\n",
       "  </tbody>\n",
       "</table>\n",
       "</div>"
      ],
      "text/plain": [
       "loan_status  Charged Off  Fully Paid\n",
       "dti_level                           \n",
       "low            11.930442   88.069558\n",
       "medium         13.933657   86.066343\n",
       "high           15.782707   84.217293"
      ]
     },
     "execution_count": 65,
     "metadata": {},
     "output_type": "execute_result"
    }
   ],
   "source": [
    "loan_dti_pivot = loan[['dti_level','loan_status']].pivot_table(index=['dti_level'],columns='loan_status',aggfunc=len)\n",
    "loan_dti_pivot.apply(lambda x:100*x/float(x.sum()),axis=1).sort_values(by='Charged Off',ascending=True)"
   ]
  },
  {
   "cell_type": "markdown",
   "id": "c7d31d51",
   "metadata": {},
   "source": [
    "`High DTI levels allude to higher charged off %`"
   ]
  },
  {
   "cell_type": "code",
   "execution_count": 66,
   "id": "342ee2f0",
   "metadata": {},
   "outputs": [],
   "source": [
    "totals_by_year = loan[['issue_yr', 'funded_amnt_inv']].groupby(by='issue_yr').sum()\n",
    "grouped_by_year_and_level = loan[['dti_level', 'issue_yr', 'funded_amnt_inv']].groupby(by=['issue_yr', 'dti_level']).sum()\n",
    "result = grouped_by_year_and_level / grouped_by_year_and_level.groupby(level=[0]).transform('sum')"
   ]
  },
  {
   "cell_type": "code",
   "execution_count": 67,
   "id": "9556a80c",
   "metadata": {},
   "outputs": [
    {
     "data": {
      "image/png": "[encoded data removed]",
      "text/plain": [
       "<Figure size 1080x720 with 1 Axes>"
      ]
     },
     "metadata": {},
     "output_type": "display_data"
    }
   ],
   "source": [
    "sns.set(style=\"whitegrid\")\n",
    "# Get the column names of the dataframe\n",
    "column_names = grouped_by_year_and_level.columns.values\n",
    "\n",
    "# We need to create a new column of our percentage (in other words, we are just replacing the values in 'funded_amnt_inv' with its percentage) in the grouped_by_year_and_level dataframe\n",
    "grouped_by_year_and_level['funded_amnt_inv_percentage'] = grouped_by_year_and_level['funded_amnt_inv'] / grouped_by_year_and_level.groupby(level=0)['funded_amnt_inv'].sum() * 100\n",
    "\n",
    "# now that we have the percentages, we can plot the data\n",
    "plt.figure(figsize=(15,10))\n",
    "ax = sns.barplot(x='issue_yr', y='funded_amnt_inv_percentage', hue='dti_level', data=grouped_by_year_and_level.reset_index(),palette='viridis')\n",
    "ax.set_title('Percentage of funded amount by issue year and DTI level')\n",
    "ax.set_ylabel('Percentage of funded amount')\n",
    "ax.set_xlabel('Issue Year')\n",
    "plt.legend(title='DTI Level')\n",
    "plt.show()"
   ]
  },
  {
   "cell_type": "markdown",
   "id": "95daf79a",
   "metadata": {},
   "source": [
    "`Higher DTI levels have been sanctioned loans progressively which is a warning signal`"
   ]
  },
  {
   "cell_type": "markdown",
   "id": "62747039",
   "metadata": {},
   "source": [
    "# Bivariate"
   ]
  },
  {
   "cell_type": "markdown",
   "id": "b65611fa",
   "metadata": {},
   "source": [
    "## Exp level with DTI against Loan Status"
   ]
  },
  {
   "cell_type": "code",
   "execution_count": 68,
   "id": "993035d0",
   "metadata": {
    "scrolled": true
   },
   "outputs": [
    {
     "data": {
      "image/png": "[encoded data removed]",
      "text/plain": [
       "<Figure size 1440x432 with 4 Axes>"
      ]
     },
     "metadata": {},
     "output_type": "display_data"
    }
   ],
   "source": [
    "def plot_loan_status(loan, emp_level, ax):\n",
    "    sns.countplot(x='loan_status', data=loan[loan['emp_level']==emp_level], ax=ax, hue='dti_level', palette='viridis')\n",
    "    ax.set_ylabel('')\n",
    "    ax.set_title(f\"{emp_level}\")\n",
    "    ax.set_xlabel('')\n",
    "    for i in ax.patches:\n",
    "        x=i.get_bbox().get_points()[:,0]\n",
    "        y=i.get_bbox().get_points()[1,1]\n",
    "        ax.annotate('{:.1f}%'.format(100.*y/len(loan[loan['emp_level']==emp_level])), (x.mean(), y), \n",
    "                ha='center', va='bottom') # set the alignment of the text\n",
    "    \n",
    "\n",
    "fig, axs = plt.subplots(1,4,sharey=True,figsize=(20,6))\n",
    "axs = axs.flatten()\n",
    "\n",
    "for i, level in enumerate(loan['emp_level'].unique()):\n",
    "    plot_loan_status(loan, level, axs[i])"
   ]
  },
  {
   "cell_type": "code",
   "execution_count": 69,
   "id": "bbd19005",
   "metadata": {
    "scrolled": true
   },
   "outputs": [
    {
     "data": {
      "image/png": "[encoded data removed]",
      "text/plain": [
       "<Figure size 1440x432 with 4 Axes>"
      ]
     },
     "metadata": {},
     "output_type": "display_data"
    }
   ],
   "source": [
    "def plot_loan_status(loan, emp_level, ax):\n",
    "    sns.countplot(x='loan_status', data=loan[loan['emp_level']==emp_level], ax=ax, hue='dti_level', palette='viridis')\n",
    "    ax.set_ylabel('')\n",
    "    ax.set_title(f\"{emp_level}\")\n",
    "    ax.set_xlabel('')\n",
    "    ax.legend()\n",
    "    for i in ax.patches:\n",
    "        x=i.get_bbox().get_points()[:,0]\n",
    "        y=i.get_bbox().get_points()[1,1]\n",
    "        ax.annotate('{:.1f}%'.format(100.*y/len(loan[loan['emp_level']==emp_level])), (x.mean(), y), \n",
    "                ha='center', va='bottom') # set the alignment of the text\n",
    "\n",
    "fig, axs = plt.subplots(1,4,sharey=True,figsize=(20,6))\n",
    "axs = axs.flatten()\n",
    "\n",
    "for i, level in enumerate(loan['emp_level'].unique()):\n",
    "    plot_loan_status(loan, level, axs[i])"
   ]
  },
  {
   "cell_type": "markdown",
   "id": "ea0d7463",
   "metadata": {},
   "source": [
    "`The Legend is a bit off since each chart represents different colors`"
   ]
  },
  {
   "cell_type": "markdown",
   "id": "9eb8d117",
   "metadata": {},
   "source": [
    "> <b> Managerial levels </b>  at High DTI are more likely to default. <br>\n",
    "> <b> Senior levels </b>  at High DTI are more likely to default. <br>\n",
    "> <b> Junior levels </b>  at Medium & High DTI are more likely to default. <br>\n",
    "> <b> Entry levels </b>  at High DTI are more likely to default. <br>"
   ]
  },
  {
   "cell_type": "markdown",
   "id": "81b174ae",
   "metadata": {},
   "source": [
    "## Loan Purpose with DTI against Loan Status"
   ]
  },
  {
   "cell_type": "code",
   "execution_count": 70,
   "id": "4393f902",
   "metadata": {},
   "outputs": [
    {
     "data": {
      "text/plain": [
       "debt_consolidation    17634\n",
       "credit_card            4894\n",
       "other                  3690\n",
       "home_improvement       2779\n",
       "major_purchase         2068\n",
       "small_business         1700\n",
       "Name: purpose, dtype: int64"
      ]
     },
     "execution_count": 70,
     "metadata": {},
     "output_type": "execute_result"
    }
   ],
   "source": [
    "loan['purpose'].value_counts()[:6]"
   ]
  },
  {
   "cell_type": "code",
   "execution_count": 71,
   "id": "006fcae7",
   "metadata": {},
   "outputs": [
    {
     "data": {
      "image/png": "[encoded data removed]",
      "text/plain": [
       "<Figure size 2880x720 with 14 Axes>"
      ]
     },
     "metadata": {},
     "output_type": "display_data"
    }
   ],
   "source": [
    "def plot_loan_purpose(loan, purpose, ax):\n",
    "    sns.countplot(x='loan_status', data=loan[loan['purpose']==purpose], ax=ax, hue='dti_level', palette='viridis')\n",
    "    ax.set_ylabel('')\n",
    "    ax.set_title(f\"{purpose}\")\n",
    "    ax.set_xlabel('')\n",
    "    ax.legend()\n",
    "    for i in ax.patches:\n",
    "        x=i.get_bbox().get_points()[:,0]\n",
    "        y=i.get_bbox().get_points()[1,1]\n",
    "        ax.annotate('{:.1f}%'.format(100.*y/len(loan[loan['purpose']==purpose])), (x.mean(), y), \n",
    "                ha='center', va='bottom') # set the alignment of the text\n",
    "\n",
    "fig, axs = plt.subplots(2,7,sharey=True,figsize=(40,10))\n",
    "axs = axs.flatten()\n",
    "\n",
    "for i, level in enumerate(loan['purpose'].unique()):\n",
    "    plot_loan_purpose(loan, level, axs[i])"
   ]
  },
  {
   "cell_type": "code",
   "execution_count": 72,
   "id": "b536a3ed",
   "metadata": {},
   "outputs": [
    {
     "data": {
      "image/png": "[encoded data removed]",
      "text/plain": [
       "<Figure size 432x288 with 1 Axes>"
      ]
     },
     "metadata": {},
     "output_type": "display_data"
    }
   ],
   "source": [
    "sns.countplot(x='loan_status', data=loan[loan['purpose']=='small_business'], hue='dti_level', palette='viridis')\n",
    "plt.title('small_business')\n",
    "plt.show()"
   ]
  },
  {
   "cell_type": "markdown",
   "id": "023afa14",
   "metadata": {},
   "source": [
    "`small business loans even at any DTI are risky`"
   ]
  },
  {
   "cell_type": "markdown",
   "id": "1cf340ed",
   "metadata": {},
   "source": [
    "## House Ownership with DTI against Loan Status"
   ]
  },
  {
   "cell_type": "code",
   "execution_count": 73,
   "id": "f7610d03",
   "metadata": {},
   "outputs": [
    {
     "data": {
      "text/plain": [
       "RENT        17996\n",
       "MORTGAGE    16569\n",
       "OWN          2759\n",
       "OTHER          96\n",
       "NONE            3\n",
       "Name: home_ownership, dtype: int64"
      ]
     },
     "execution_count": 73,
     "metadata": {},
     "output_type": "execute_result"
    }
   ],
   "source": [
    "loan['home_ownership'].value_counts()"
   ]
  },
  {
   "cell_type": "code",
   "execution_count": 77,
   "id": "b31ba393",
   "metadata": {},
   "outputs": [
    {
     "ename": "IndexError",
     "evalue": "index 3 is out of bounds for axis 0 with size 3",
     "output_type": "error",
     "traceback": [
      "\u001b[0;31m---------------------------------------------------------------------------\u001b[0m",
      "\u001b[0;31mIndexError\u001b[0m                                Traceback (most recent call last)",
      "\u001b[0;32m/var/folders/yh/vh2vpdt12651xvxycyyt_mjh001s7r/T/ipykernel_42842/3928995085.py\u001b[0m in \u001b[0;36m<module>\u001b[0;34m\u001b[0m\n\u001b[1;32m     15\u001b[0m \u001b[0;34m\u001b[0m\u001b[0m\n\u001b[1;32m     16\u001b[0m \u001b[0;32mfor\u001b[0m \u001b[0mi\u001b[0m\u001b[0;34m,\u001b[0m \u001b[0mlevel\u001b[0m \u001b[0;32min\u001b[0m \u001b[0menumerate\u001b[0m\u001b[0;34m(\u001b[0m\u001b[0mloan\u001b[0m\u001b[0;34m[\u001b[0m\u001b[0;34m'home_ownership'\u001b[0m\u001b[0;34m]\u001b[0m\u001b[0;34m.\u001b[0m\u001b[0munique\u001b[0m\u001b[0;34m(\u001b[0m\u001b[0;34m)\u001b[0m\u001b[0;34m)\u001b[0m\u001b[0;34m:\u001b[0m\u001b[0;34m\u001b[0m\u001b[0;34m\u001b[0m\u001b[0m\n\u001b[0;32m---> 17\u001b[0;31m     \u001b[0mplot_loan_status\u001b[0m\u001b[0;34m(\u001b[0m\u001b[0mloan\u001b[0m\u001b[0;34m,\u001b[0m \u001b[0mlevel\u001b[0m\u001b[0;34m,\u001b[0m \u001b[0maxs\u001b[0m\u001b[0;34m[\u001b[0m\u001b[0mi\u001b[0m\u001b[0;34m]\u001b[0m\u001b[0;34m)\u001b[0m\u001b[0;34m\u001b[0m\u001b[0;34m\u001b[0m\u001b[0m\n\u001b[0m",
      "\u001b[0;31mIndexError\u001b[0m: index 3 is out of bounds for axis 0 with size 3"
     ]
    },
    {
     "data": {
      "image/png": "[encoded data removed]",
      "text/plain": [
       "<Figure size 1440x432 with 3 Axes>"
      ]
     },
     "metadata": {},
     "output_type": "display_data"
    }
   ],
   "source": [
    "def plot_loan_status(loan, ho, ax):\n",
    "    sns.countplot(x='loan_status', data=loan[loan['home_ownership']==ho], ax=ax, hue='dti_level', palette='viridis')\n",
    "    ax.set_ylabel('')\n",
    "    ax.set_title(f\"{ho}\")\n",
    "    ax.set_xlabel('')\n",
    "    ax.legend()\n",
    "    for i in ax.patches:\n",
    "        x=i.get_bbox().get_points()[:,0]\n",
    "        y=i.get_bbox().get_points()[1,1]\n",
    "        ax.annotate('{:.1f}%'.format(100.*y/len(loan[loan['home_ownership']==ho])), (x.mean(), y), \n",
    "                ha='center', va='bottom') # set the alignment of the text\n",
    "\n",
    "fig, axs = plt.subplots(1,3,sharey=False,figsize=(20,6))\n",
    "axs = axs.flatten()\n",
    "\n",
    "for i, level in enumerate(loan['home_ownership'].unique()):\n",
    "    plot_loan_status(loan, level, axs[i])"
   ]
  },
  {
   "cell_type": "markdown",
   "id": "611b894c",
   "metadata": {},
   "source": [
    "`Rent ownership, even at low DTI posesses a default risk`"
   ]
  },
  {
   "cell_type": "code",
   "execution_count": 75,
   "id": "4b79cb5e",
   "metadata": {},
   "outputs": [
    {
     "data": {
      "image/png": "[encoded data removed]",
      "text/plain": [
       "<Figure size 1440x432 with 2 Axes>"
      ]
     },
     "metadata": {},
     "output_type": "display_data"
    }
   ],
   "source": [
    "def plot_loan_status(loan, ho, ax):\n",
    "    sns.countplot(x='loan_status', data=loan[loan['term']==ho], ax=ax, hue='dti_level', palette='viridis')\n",
    "    ax.set_ylabel('')\n",
    "    ax.set_title(f\"{ho}\")\n",
    "    ax.set_xlabel('')\n",
    "    ax.legend()\n",
    "    for i in ax.patches:\n",
    "        x=i.get_bbox().get_points()[:,0]\n",
    "        y=i.get_bbox().get_points()[1,1]\n",
    "        ax.annotate('{:.1f}%'.format(100.*y/len(loan[loan['term']==ho])), (x.mean(), y), \n",
    "                ha='center', va='bottom') # set the alignment of the text\n",
    "\n",
    "fig, axs = plt.subplots(1,2,sharey=False,figsize=(20,6))\n",
    "axs = axs.flatten()\n",
    "\n",
    "for i, level in enumerate(loan['term'].unique()):\n",
    "    plot_loan_status(loan, level, axs[i])"
   ]
  },
  {
   "cell_type": "markdown",
   "id": "bbcdd599",
   "metadata": {},
   "source": [
    "`longer term loans are sanctioned even at high DTI resulting in higher defaults`"
   ]
  },
  {
   "cell_type": "markdown",
   "id": "60ad5099",
   "metadata": {},
   "source": [
    " <b> --------------------------------------------- END OF ANALYSIS ------------------------------------------------------- <b>"
   ]
  }
 ],
 "metadata": {
  "kernelspec": {
   "display_name": "Python 3 (ipykernel)",
   "language": "python",
   "name": "python3"
  },
  "language_info": {
   "codemirror_mode": {
    "name": "ipython",
    "version": 3
   },
   "file_extension": ".py",
   "mimetype": "text/x-python",
   "name": "python",
   "nbconvert_exporter": "python",
   "pygments_lexer": "ipython3",
   "version": "3.9.7"
  }
 },
 "nbformat": 4,
 "nbformat_minor": 5
}
